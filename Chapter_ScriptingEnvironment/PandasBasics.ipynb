{
 "cells": [
  {
   "cell_type": "markdown",
   "metadata": {},
   "source": [
    "# Chapter: The Scripting Environment\n",
    "\n",
    "\n",
    "# Topic: Pandas Basics"
   ]
  },
  {
   "cell_type": "code",
   "execution_count": 2,
   "metadata": {},
   "outputs": [
    {
     "name": "stdout",
     "output_type": "stream",
     "text": [
      "0    10\n",
      "1     8\n",
      "2     6\n",
      "dtype: int64\n",
      "   id  value\n",
      "0   1     10\n",
      "1   1      8\n",
      "2   1      6\n",
      "   id  value\n",
      "0   1     10\n",
      "1   1      8\n",
      "2   1      6\n"
     ]
    }
   ],
   "source": [
    "# create a series (1D structure)\n",
    "import pandas as pd\n",
    "\n",
    "data = [10,8,6]\n",
    "s = pd.Series(data) # can pass numpy array as well\n",
    "print(s)\n",
    "\n",
    "# create a dataframe\n",
    "data = [[1,10],[1,8],[1,6]]\n",
    "df = pd.DataFrame(data, columns=['id', 'value'])\n",
    "print(df)\n",
    "\n",
    "# dataframe from series\n",
    "s2 = pd.Series([1,1,1])\n",
    "df = pd.DataFrame({'id':s2, 'value':s})\n",
    "print(df) # same as above"
   ]
  },
  {
   "cell_type": "code",
   "execution_count": 3,
   "metadata": {},
   "outputs": [
    {
     "name": "stdout",
     "output_type": "stream",
     "text": [
      "0    1\n",
      "1    1\n",
      "2    1\n",
      "Name: id, dtype: int64\n",
      "0    1\n",
      "1    1\n",
      "2    1\n",
      "Name: id, dtype: int64\n",
      "   id\n",
      "0   1\n",
      "1   1\n",
      "2   1\n",
      "     id  value\n",
      "100   1     10\n",
      "101   1      8\n",
      "102   1      6\n",
      "id       1\n",
      "value    8\n",
      "Name: 101, dtype: int64\n",
      "id       1\n",
      "value    8\n",
      "Name: 101, dtype: int64\n",
      "8\n",
      "8\n"
     ]
    }
   ],
   "source": [
    "# data access\n",
    "# column(s) selection\n",
    "print(df['id']) # returns column 'id' as a series\n",
    "print(df.id) # same as above\n",
    "print(df[['id']]) # returns specified columns in the list as a dataframe\n",
    "\n",
    "# row selection\n",
    "df.index = [100, 101, 102] # changing row indices from [0,1,2] to [100,101,102]\n",
    "print(df)\n",
    "print(df.loc[101]) # returns 2nd row as a series; can provide a list for multiple rows selection\n",
    "print(df.iloc[1]) # integer location-based selection; same result as above\n",
    "\n",
    "# individual item selection\n",
    "print(df.loc[101, 'value']) # returns 8\n",
    "print(df.iloc[1, 1]) # same as above"
   ]
  },
  {
   "cell_type": "code",
   "execution_count": 4,
   "metadata": {},
   "outputs": [
    {
     "name": "stdout",
     "output_type": "stream",
     "text": [
      "     id  value\n",
      "100   2     40\n",
      "101   2     32\n",
      "102   2     24\n",
      "     id  value\n",
      "100   1     10\n",
      "101   1      8\n",
      "102   1      6\n",
      "100   2     40\n",
      "101   2     32\n",
      "102   2     24\n",
      "    value\n",
      "id       \n",
      "1     8.0\n",
      "2    32.0\n"
     ]
    }
   ],
   "source": [
    "# data aggregation exanple\n",
    "# create another dataframe using df\n",
    "df2 = df.copy()\n",
    "df2.id = 2 # make all items in column 'id' as 2\n",
    "df2.value *= 4 # multiply all items in column 'value' by 4\n",
    "print(df2)\n",
    "\n",
    "# combine df and df2\n",
    "df3 = df.append(df2) # a new object is retuned unlike Python’s append function\n",
    "print(df3)\n",
    "\n",
    "# id-based mean values computation\n",
    "print(df3.groupby('id').mean()) # returns a dataframe"
   ]
  },
  {
   "cell_type": "code",
   "execution_count": null,
   "metadata": {},
   "outputs": [],
   "source": [
    "# file I/O\n",
    "# reading from excel and csv files\n",
    "dataset1 = pd.read_excel('filename.xlsx') # several parameter  options are available to customize what data is read\n",
    "dataset2 = pd.read_csv('filename.xlsx')"
   ]
  }
 ],
 "metadata": {
  "kernelspec": {
   "display_name": "Python 3 (ipykernel)",
   "language": "python",
   "name": "python3"
  },
  "language_info": {
   "codemirror_mode": {
    "name": "ipython",
    "version": 3
   },
   "file_extension": ".py",
   "mimetype": "text/x-python",
   "name": "python",
   "nbconvert_exporter": "python",
   "pygments_lexer": "ipython3",
   "version": "3.9.7"
  }
 },
 "nbformat": 4,
 "nbformat_minor": 2
}
