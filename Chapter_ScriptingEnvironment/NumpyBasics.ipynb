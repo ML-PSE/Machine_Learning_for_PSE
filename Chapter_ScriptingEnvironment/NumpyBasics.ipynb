{
 "cells": [
  {
   "cell_type": "markdown",
   "metadata": {},
   "source": [
    "# Chapter: The Scripting Environment\n",
    "\n",
    "\n",
    "# Topic: NumPy Basics"
   ]
  },
  {
   "cell_type": "code",
   "execution_count": 1,
   "metadata": {},
   "outputs": [
    {
     "name": "stdout",
     "output_type": "stream",
     "text": [
      "6\n",
      "2\n",
      "(2, 3)\n",
      "3\n",
      "1\n",
      "(3,)\n"
     ]
    }
   ],
   "source": [
    "# create a 2D array\n",
    "import numpy as np\n",
    "\n",
    "arr2D = np.array([[1,4,6],[2,5,7]]) \n",
    "\n",
    "# getting information about arr2D\n",
    "print(arr2D.size) # returns 6, the no. of items\n",
    "print(arr2D.ndim) # returns 2, the no. of dimensions\n",
    "print(arr2D.shape) # returns tuple(2,3) corresponding to 2 rows & 3 columns\n",
    "\n",
    "# create a 1D array\n",
    "arr1D = np.array([1,4,6]) \n",
    "\n",
    "# getting information about arr1D\n",
    "print(arr1D.size) # returns 3, the no. of items\n",
    "print(arr1D.ndim) # returns 1, the no. of dimensions\n",
    "print(arr1D.shape) # returns tuple(3,) corresponding to 3 items"
   ]
  },
  {
   "cell_type": "code",
   "execution_count": 2,
   "metadata": {},
   "outputs": [
    {
     "name": "stdout",
     "output_type": "stream",
     "text": [
      "[[3]\n",
      " [4]\n",
      " [5]]\n",
      "[3 4 5 3 5 7]\n",
      "[[3 4 5]\n",
      " [3 5 7]]\n",
      "[[0. 0. 1.]\n",
      " [0. 0. 1.]]\n",
      "[[0. 0.]\n",
      " [0. 0.]\n",
      " [1. 0.]\n",
      " [0. 1.]]\n"
     ]
    }
   ],
   "source": [
    "# creating numpy arrays\n",
    "# creating sequence of numbers\n",
    "arr1 = np.arange(3, 6) # same as Python range function; results in array([3,4,5])\n",
    "arr2 = np.arange(3, 9, 2) # the 3rd argument defines the step size; results in array([3,5,7])\n",
    "arr3 = np.linspace(1,7,3) # creates evenly spaced 3 values from 1 to 7; results in array([1,4,7])\n",
    "\n",
    "# creating special arrays\n",
    "arr4 = np.ones((2,1)) # array of shape (2,1) with all items as 1\n",
    "arr5 = np.zeros((2,2)) # all items as zero; often used as placeholder array at beginning of script\n",
    "arr6 = np.eye(2) # diagonal items as 1\n",
    "\n",
    "# adding axis to existing arrays (e.g., converting 1D array to 2D array)\n",
    "print(arr1[:, np.newaxis])\n",
    "arr7 = arr1[:, None] # same as above\n",
    "\n",
    "# combining / stacking arrays\n",
    "print(np.hstack((arr1, arr2))) # horizontally stacks passed arrays\n",
    "print(np.vstack((arr1, arr2))) # vertically stacks passed arrays\n",
    "print(np.hstack((arr5,arr4))) # array 4 added as a column into arr5\n",
    "print(np.vstack((arr5,arr6))) # rows of array 6 added onto arr5"
   ]
  },
  {
   "cell_type": "code",
   "execution_count": 3,
   "metadata": {},
   "outputs": [
    {
     "name": "stdout",
     "output_type": "stream",
     "text": [
      "[ 3  9 13]\n",
      "[11 14]\n"
     ]
    }
   ],
   "source": [
    "# basic numpy functions\n",
    "print(arr2D.sum(axis=0))\n",
    "print(arr2D.sum(axis=1))"
   ]
  },
  {
   "cell_type": "code",
   "execution_count": 4,
   "metadata": {},
   "outputs": [
    {
     "name": "stdout",
     "output_type": "stream",
     "text": [
      "7\n",
      "[[1 2]]\n",
      "[1 2]\n",
      "[5 6 7 8 9]\n",
      "[4 9]\n",
      "[[   0    1    2    3    4]\n",
      " [   5 1000    7    8    9]]\n",
      "[[0 1 2 3 4]\n",
      " [5 6 7 8 9]]\n",
      "[[0 1 2 3 4]\n",
      " [5 6 7 8 9]]\n",
      "[[0 1 2 3 4]\n",
      " [5 6 7 8 9]]\n"
     ]
    }
   ],
   "source": [
    "# indexing arrays\n",
    "# accessing individual items\n",
    "print(arr2D[1,2]) # returns 7\n",
    "\n",
    "# slicing\n",
    "arr8 = np.arange(10).reshape((2,5)) # rearrange the 1D array into shape (2,5)\n",
    "print((arr8[0:1,1:3]))\n",
    "print((arr8[0,1:3])) # note that a 1D array is returned here instead of the 2D array above\n",
    "\n",
    "# accessing entire row or column\n",
    "print(arr8[1]) # returns 2nd row as array([5,6,7,8,9]); same as arr8[1,:]\n",
    "print(arr8[:, 4]) # returns items of 5th column as a 1D array \n",
    "\n",
    "# extract a subarray from arr8 and modify it\n",
    "arr8_sub = arr8[:, :2] # columns 0 and 1 from all rows\n",
    "arr8_sub[1, 1] = 1000\n",
    "print(arr8) # arr8 gets modified as well!! \n",
    "\n",
    "# use copy method for a separate copy\n",
    "arr8 = np.arange(10).reshape((2,5))\n",
    "arr8_sub2 = arr8[:, :2].copy()\n",
    "arr8_sub2[1, 1] = 100\n",
    "print(arr8)\n",
    "\n",
    "# Fancy indexing\n",
    "# combination of simple and fancy indexing\n",
    "arr8_sub3 = arr8[:, [0, 1]] # note how columns are indexed via a list\n",
    "arr8_sub3[1, 1] = 100 # arr8_sub3 becomes same as arr8_sub2 but arr8 is not modified here\n",
    "print(arr8)\n",
    "\n",
    "# use boolean mask to select subarray\n",
    "arr8_sub4 = arr8[arr8 > 5] # returns array([6,7,8,9]), i.e., all values > 5\n",
    "arr8_sub4[0] = 0 # again, arr8 is not affected\n",
    "print(arr8)"
   ]
  },
  {
   "cell_type": "code",
   "execution_count": 7,
   "metadata": {},
   "outputs": [
    {
     "name": "stdout",
     "output_type": "stream",
     "text": [
      "8.0\n"
     ]
    }
   ],
   "source": [
    "# vectorized operations\n",
    "vec1 = np.array([1,2,3,4])\n",
    "vec2 = np.array([5,6,7,8])\n",
    "vec_sum = vec1 + vec2 # returns array([6,8,10,12]); no need to loop through index 0 to 3\n",
    "\n",
    "# slightly more complex operation (computing distance between vectors)\n",
    "vec_distance = np.sqrt(np.sum((vec1 - vec2)**2)) # vec_distance = 8.0\n",
    "print(vec_distance)"
   ]
  }
 ],
 "metadata": {
  "kernelspec": {
   "display_name": "Python 3 (ipykernel)",
   "language": "python",
   "name": "python3"
  },
  "language_info": {
   "codemirror_mode": {
    "name": "ipython",
    "version": 3
   },
   "file_extension": ".py",
   "mimetype": "text/x-python",
   "name": "python",
   "nbconvert_exporter": "python",
   "pygments_lexer": "ipython3",
   "version": "3.9.7"
  }
 },
 "nbformat": 4,
 "nbformat_minor": 2
}
