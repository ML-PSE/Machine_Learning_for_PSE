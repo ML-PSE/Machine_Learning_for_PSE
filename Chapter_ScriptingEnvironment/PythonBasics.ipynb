{
 "cells": [
  {
   "cell_type": "markdown",
   "metadata": {},
   "source": [
    "# Chapter: The Scripting Environment\n",
    "\n",
    "\n",
    "# Topic: Python Basics"
   ]
  },
  {
   "cell_type": "code",
   "execution_count": 2,
   "metadata": {},
   "outputs": [
    {
     "name": "stdout",
     "output_type": "stream",
     "text": [
      "4\n",
      "2.4\n",
      "False\n"
     ]
    }
   ],
   "source": [
    "# basic data types\n",
    "i = 2 # integer; type(i) = int\n",
    "f = 1.2 # floating-point number; type(f) = float\n",
    "s = 'two' # string; type(s) = str\n",
    "b = True # boolean; type(b) = bool\n",
    "\n",
    "# basic operations\n",
    "print(i+2) # displays 4\n",
    "print(f*2) # displays 2.4\n",
    "print(not b)# displays False"
   ]
  },
  {
   "cell_type": "code",
   "execution_count": 6,
   "metadata": {},
   "outputs": [
    {
     "name": "stdout",
     "output_type": "stream",
     "text": [
      "[0, 1, 2, 3, 8]\n",
      "[['air', 3, 1, 5], [0, 1, 2, 3, 8]]\n",
      "([2, 4, 6], ['air', 3, 1, 5])\n"
     ]
    }
   ],
   "source": [
    "# ordered sequences\n",
    "# different ways of creating lists\n",
    "list1 = [2,4,6]\n",
    "list2 = ['air',3,1,5]\n",
    "list3 = list(range(4)) # equals [0,1,2,3]; range function returns a sequence of numbers starting from 0 (default) with increments of 1 (default)\n",
    "list3.append(8) # returns [0,1,2,3,8];  append function adds new items to existing list\n",
    "print(list3)\n",
    "\n",
    "list4 = list1 + list2 # equals [2,4,6,'air',3,1,5]\n",
    "list5 = [list2, list3] # nested list [['air', 3, 1, 5], [0, 1, 2, 3,8]]\n",
    "print(list5)\n",
    "\n",
    "# creating tuples\n",
    "tuple1 = (0,1,'two')\n",
    "tuple2 = (list1, list2) # equals ([2, 4, 6, 8], ['air', 3, 1, 5])\n",
    "print(tuple2)"
   ]
  },
  {
   "cell_type": "code",
   "execution_count": 7,
   "metadata": {},
   "outputs": [
    {
     "name": "stdout",
     "output_type": "stream",
     "text": [
      "[0, 1, 16, 81, 4096]\n"
     ]
    }
   ],
   "source": [
    "# list comprehension\n",
    "# return powers of list items\n",
    "newList1 = [item**2 for item in list3] # equals [0,1,4,9, 64]\n",
    "# nested list comprehension\n",
    "newList2 = [item2**2 for item2 in [item**2 for item in list3]] # equals [0,1,16,81, 4096]\n",
    "print(newList2)"
   ]
  },
  {
   "cell_type": "code",
   "execution_count": 8,
   "metadata": {},
   "outputs": [
    {
     "name": "stdout",
     "output_type": "stream",
     "text": [
      "2\n",
      "1\n",
      "[2, 4, 6]\n",
      "[2, 4, 6]\n",
      "[3, 1, 5]\n",
      "[3, 1, 5]\n",
      "[2, 'air', 5]\n",
      "[5, 1, 3, 'air', 6, 4, 2]\n"
     ]
    }
   ],
   "source": [
    "# Indexing and slicing sequences\n",
    "# working with single item using positive or negative indexes\n",
    "print(list1[0]) # displays 2, the 1st item in list1\n",
    "list2[1] = 1 # list2 becomes ['air',1,1,5]\n",
    "print(list2[-2]) # displays 1, the 2nd last element in list2\n",
    "\n",
    "# accessing multiple items through slicing\n",
    "# Syntax: givenList[start,stop,step]; if unspecified, start=0, stop=list length, step=1\n",
    "print(list4[0:3]) # displays [2,4,6], the 1st, 2nd, 3rd items; note that index 3 item is excluded\n",
    "print(list4[:3]) # same as above\n",
    "print(list4[4:len(list4)]) # displays [3,1,5]; len() function returns the number of items in list\n",
    "print(list4[4:]) # same as above\n",
    "print(list4[::3]) # displays [2, 'air', 5]\n",
    "print(list4[::-1]) # displays list 4 backwards [5, 1, 3, 'air', 6, 4, 2]\n",
    "list4[2:4] = [0,0,0] # list 4 becomes [2, 4, 0, 0, 0, 3, 1, 5]"
   ]
  },
  {
   "cell_type": "code",
   "execution_count": 9,
   "metadata": {},
   "outputs": [
    {
     "name": "stdout",
     "output_type": "stream",
     "text": [
      "78\n"
     ]
    }
   ],
   "source": [
    "# Execution control statements \n",
    "# conditional execution\n",
    "# selectively execute code based on condition\n",
    "if list1[0] > 0:\n",
    "    list1[0] = 'positive'\n",
    "else:\n",
    "    list1[0] = 'negative'\n",
    "    \n",
    "# loop execution\n",
    "# code below computes sum of squares of numbers in list 3\n",
    "sum_of_squares = 0\n",
    "for i in range(len(list3)):\n",
    "    sum_of_squares += list3[i]**2\n",
    "\n",
    "print(sum_of_squares) # displays 78"
   ]
  },
  {
   "cell_type": "code",
   "execution_count": 10,
   "metadata": {},
   "outputs": [
    {
     "name": "stdout",
     "output_type": "stream",
     "text": [
      "78\n",
      "55\n"
     ]
    }
   ],
   "source": [
    "# custom functions\n",
    "# define function instructions\n",
    "def sumSquares(givenList):\n",
    "    sum_of_squares = 0\n",
    "    for i in range(len(givenList)):\n",
    "        sum_of_squares += givenList[i]**2\n",
    "    \n",
    "    return sum_of_squares\n",
    "\n",
    "# call/re-use the custom function multiple times\n",
    "print(sumSquares(list3)) # displays 78\n",
    "print(sumSquares(list4)) # displays 55"
   ]
  }
 ],
 "metadata": {
  "kernelspec": {
   "display_name": "Python 3 (ipykernel)",
   "language": "python",
   "name": "python3"
  },
  "language_info": {
   "codemirror_mode": {
    "name": "ipython",
    "version": 3
   },
   "file_extension": ".py",
   "mimetype": "text/x-python",
   "name": "python",
   "nbconvert_exporter": "python",
   "pygments_lexer": "ipython3",
   "version": "3.9.7"
  }
 },
 "nbformat": 4,
 "nbformat_minor": 2
}
