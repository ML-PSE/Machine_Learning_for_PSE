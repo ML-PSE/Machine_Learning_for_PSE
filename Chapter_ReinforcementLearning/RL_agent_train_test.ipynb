{
 "cells": [
  {
   "cell_type": "markdown",
   "metadata": {},
   "source": [
    "# Chapter: Reinforcement Learning\n",
    "\n",
    "\n",
    "# Topic: RL Agent training and test"
   ]
  },
  {
   "cell_type": "code",
   "execution_count": 1,
   "metadata": {},
   "outputs": [],
   "source": [
    "# import packages\n",
    "import numpy as np\n",
    "import tensorflow as tf\n",
    "from tensorflow import keras\n",
    "from tensorflow.keras import Sequential\n",
    "from tensorflow.keras.layers import Dense"
   ]
  },
  {
   "cell_type": "code",
   "execution_count": 2,
   "metadata": {},
   "outputs": [],
   "source": [
    "# define utility functions\n",
    "def ActorNetwork(n_states=3, n_action=1):\n",
    "    \"\"\"\n",
    "    Get actor network with the given parameters\n",
    "    \n",
    "    Arg:\n",
    "        n_states: dimension of observation/state\n",
    "        n_action: dimension of action\n",
    "        \n",
    "    Returns:\n",
    "        the keras model\n",
    "    \"\"\"\n",
    "    model = Sequential()\n",
    "    model.add(Dense(8, activation='relu', input_shape=(n_states,)))\n",
    "    model.add(Dense(8, activation='relu'))\n",
    "    model.add(Dense(n_action, activation='sigmoid'))\n",
    "    \n",
    "    return model\n",
    "\n",
    "def CriticNetwork(n_states=3, n_action=1):\n",
    "    \"\"\"\n",
    "    Get critic network with the given parameters\n",
    "    \n",
    "    Arg:\n",
    "        n_states: dimension of observation/state\n",
    "        n_action: dimension of action\n",
    "        \n",
    "    Returns:\n",
    "        the keras model\n",
    "    \"\"\"\n",
    "    model = Sequential()\n",
    "    model.add(Dense(8, activation='relu', input_shape=(n_states+n_action,)))\n",
    "    model.add(Dense(8, activation='relu'))\n",
    "    model.add(Dense(1))\n",
    "    \n",
    "    return model\n",
    "\n",
    "def update_target(target_network, ref_network, tau=0.01):\n",
    "    \"\"\"\n",
    "    update target network weights\n",
    "    \"\"\"\n",
    "    \n",
    "    target_network_weights = target_network.get_weights()\n",
    "    ref_network_weights = ref_network.get_weights()\n",
    "    \n",
    "    for index in range(len(target_network_weights)):\n",
    "        target_network_weights[index] = tau*ref_network_weights[index] + (1-tau)*target_network_weights[index]   \n",
    "    target_network.set_weights(target_network_weights)\n",
    "    \n",
    "    return target_network\n",
    "\n",
    "def OU_noise(noise_prev, theta=0.15, mu=0, sigma=0.025, n_action=1):\n",
    "    \"\"\"\n",
    "    # adapted from https://github.com/openai/baselines/blob/master/baselines/ddpg/noise.py\n",
    "    \n",
    "    Simulate OU process to generate time-correlated noise\n",
    "    \"\"\"\n",
    "    \n",
    "    noise = noise_prev + theta*(mu-noise_prev) + sigma*np.random.randn(n_action)\n",
    "    return noise\n",
    "\n",
    "def sample_ReplayMemory():\n",
    "    \"\"\"\n",
    "    # adapted from https://github.com/ageron/handson-ml2/blob/master/18_reinforcement_learning.ipynb\n",
    "\n",
    "    Returns:\n",
    "        states: A 2D numpy array with 3 columns \n",
    "        actions: A 2D numpy array with 1 column\n",
    "        rewards: A 1D numpy array\n",
    "        next_states: A 2D numpy array with 3 columns\n",
    "        dones: A 1D numpy array\n",
    "    \n",
    "    \"\"\"\n",
    "    # select a batch of transitions from the replay memory\n",
    "    indices = np.random.randint(len(replay_memory), size=batchSize)\n",
    "    batch = [replay_memory[index] for index in indices]\n",
    "    \n",
    "    # separate the states, actions, rewards, next_states, dones from the selected transitions\n",
    "    states, actions, rewards, next_states, dones = [np.array([transition[field_index] for transition in batch]) for field_index in range(5)]\n",
    "    return states, actions, rewards, next_states, dones\n",
    "\n",
    "def get_TD_targets(rewards, target_Q_values, dones, gamma=0.95):\n",
    "    \"\"\"\n",
    "    Args:\n",
    "        rewards: A 1D numpy array\n",
    "        target_Q_values: A 2D numpy array with 1 column\n",
    "        dones: A 1D numpy array\n",
    "    \n",
    "    Returns: \n",
    "        td_targets: A 2D numpy array with 1 column \n",
    "    \"\"\"\n",
    "    td_targets = np.zeros_like(target_Q_values)\n",
    "    for i in range(target_Q_values.shape[0]):\n",
    "        if dones[i]:\n",
    "            td_targets[i] = rewards[i]\n",
    "        else:\n",
    "            td_targets[i] = rewards[i] + gamma*target_Q_values[i]\n",
    "    \n",
    "    return td_targets\n",
    "\n",
    "# tf.function used for improved performance\n",
    "@tf.function(\n",
    "    input_signature=[\n",
    "        tf.TensorSpec(shape=(None, 3), dtype=tf.float32),\n",
    "        tf.TensorSpec(shape=(None, 1), dtype=tf.float32),\n",
    "        tf.TensorSpec(shape=(None, 1), dtype=tf.float32),\n",
    "    ])\n",
    "def ddpg_updateStep(s, a, td_targets):\n",
    "    \"\"\"\n",
    "    Update the main networks \n",
    "    \"\"\"\n",
    "    # update critic\n",
    "    with tf.GradientTape() as tape:\n",
    "        Q_predicted = critic(tf.concat([s, a], 1))\n",
    "        critic_loss = tf.reduce_mean(loss_fn(td_targets, Q_predicted)) # loss_fn is defined later\n",
    "    critic_gradients = tape.gradient(critic_loss, critic.trainable_variables)\n",
    "    critic_optimizer.apply_gradients(zip(critic_gradients, critic.trainable_variables))\n",
    "    \n",
    "    # update actor\n",
    "    with tf.GradientTape() as tape:\n",
    "        actor_loss = -tf.reduce_mean(critic(tf.concat([s, actor(s)], 1)))\n",
    "    actor_gradients = tape.gradient(actor_loss, actor.trainable_variables)\n",
    "    actor_optimizer.apply_gradients(zip(actor_gradients, actor.trainable_variables))\n"
   ]
  },
  {
   "cell_type": "code",
   "execution_count": 3,
   "metadata": {},
   "outputs": [],
   "source": [
    "#%%%%%%%%%%%%%%%%%%%%%%%%%%%%%%%%%%%%%%%%%%%%%%%%%%%%%%%%%\n",
    "#                   RL Agent training\n",
    "#%%%%%%%%%%%%%%%%%%%%%%%%%%%%%%%%%%%%%%%%%%%%%%%%%%%%%%%%%"
   ]
  },
  {
   "cell_type": "code",
   "execution_count": 6,
   "metadata": {},
   "outputs": [],
   "source": [
    "# some initializations\n",
    "\n",
    "# define replay memory\n",
    "from collections import deque\n",
    "replay_memory = deque(maxlen=100000)\n",
    "\n",
    "# define networks and set their optimizers\n",
    "critic = CriticNetwork()\n",
    "target_critic = CriticNetwork()\n",
    "target_critic.set_weights(critic.get_weights())\n",
    "\n",
    "actor = ActorNetwork()\n",
    "target_actor = ActorNetwork()\n",
    "target_actor.set_weights(actor.get_weights())\n",
    "\n",
    "critic_optimizer = keras.optimizers.Adam(lr=0.01)\n",
    "actor_optimizer = keras.optimizers.Adam(lr=0.01)\n",
    "\n",
    "loss_fn = keras.losses.MeanSquaredError()\n",
    "\n",
    "# define environment\n",
    "from Tank_Environment import tank_environment\n",
    "env = tank_environment() # __init__ function gets called implicitly here\n",
    "\n",
    "# some training settings\n",
    "rewards = [] # stores the total reward collected over each episode\n",
    "n_episodes = 300\n",
    "n_steps = 200\n",
    "batchSize = 64"
   ]
  },
  {
   "cell_type": "code",
   "execution_count": null,
   "metadata": {},
   "outputs": [],
   "source": [
    "# the training loop\n",
    "for episode in range(n_episodes):\n",
    "    state = env.reset()\n",
    "    noise = 0\n",
    "    episode_reward = 0\n",
    "    \n",
    "    for step in range(n_steps):\n",
    "        # determine action\n",
    "        action = actor.predict(state.reshape(1,-1)).flatten()\n",
    "        noise = OU_noise(noise)\n",
    "        action = np.clip(action + noise, 0, 1) # ensuring action remains within 0 and 1\n",
    "        \n",
    "        # implement action, get back new state and reward, and save in RM\n",
    "        next_state, reward, done = env.step(action[0])\n",
    "        episode_reward = episode_reward + reward\n",
    "        replay_memory.append((state, action, reward, next_state, done))\n",
    "        \n",
    "        # update the networks\n",
    "        if len(replay_memory) >= batchSize:\n",
    "            # sample transitions\n",
    "            RM_states, RM_actions, RM_rewards, RM_next_states, RM_dones = sample_ReplayMemory()\n",
    "            \n",
    "            # compute TD targets\n",
    "            RM_target_next_actions = target_actor.predict(RM_next_states)\n",
    "            RM_target_Q_values = target_critic.predict(np.concatenate((RM_next_states, RM_target_next_actions), axis=1))\n",
    "            RM_td_targets = get_TD_targets(RM_rewards, RM_target_Q_values, RM_dones)\n",
    "            \n",
    "            # update main networks\n",
    "            ddpg_updateStep(tf.convert_to_tensor(RM_states, dtype=tf.float32), \n",
    "                            tf.convert_to_tensor(RM_actions, dtype=tf.float32),\n",
    "                            tf.convert_to_tensor(RM_td_targets, dtype=tf.float32))\n",
    "            \n",
    "            # update target networks\n",
    "            target_critic = update_target(target_critic, critic)\n",
    "            target_actor = update_target(target_actor, actor)\n",
    "        \n",
    "        # preparation for next step\n",
    "        state = next_state\n",
    "        if done:\n",
    "            break\n",
    "    \n",
    "    rewards.append(episode_reward)\n",
    "    print('Episode{} steps{} reward={}'.format(episode, step, episode_reward))"
   ]
  },
  {
   "cell_type": "code",
   "execution_count": null,
   "metadata": {},
   "outputs": [],
   "source": [
    "# plot training rewards\n",
    "import matplotlib.pyplot as plt\n",
    "plt.figure()\n",
    "plt.plot(rewards)\n",
    "plt.xlabel('episode #'), plt.ylabel('episode reward')\n",
    "\n",
    "# plot moving average reward of 50 episodes\n",
    "import pandas as pd\n",
    "rewards_series = pd.Series(rewards)\n",
    "MA_rewards = rewards_series.rolling(10).mean()\n",
    "\n",
    "plt.figure()\n",
    "plt.plot(MA_rewards)\n",
    "plt.xlabel('episode #'), plt.ylabel('MA episodic reward')\n",
    "\n",
    "plt.show()"
   ]
  },
  {
   "cell_type": "code",
   "execution_count": null,
   "metadata": {},
   "outputs": [],
   "source": [
    "# save the models\n",
    "actor.save('actor_saved')"
   ]
  },
  {
   "cell_type": "code",
   "execution_count": 7,
   "metadata": {},
   "outputs": [],
   "source": [
    "#%%%%%%%%%%%%%%%%%%%%%%%%%%%%%%%%%%%%%%%%%%%%%%%%%%%%%%%%%\n",
    "#                   RL Agent test\n",
    "#%%%%%%%%%%%%%%%%%%%%%%%%%%%%%%%%%%%%%%%%%%%%%%%%%%%%%%%%%"
   ]
  },
  {
   "cell_type": "code",
   "execution_count": 8,
   "metadata": {},
   "outputs": [
    {
     "name": "stdout",
     "output_type": "stream",
     "text": [
      "WARNING:tensorflow:No training configuration found in save file, so the model was *not* compiled. Compile it manually.\n"
     ]
    }
   ],
   "source": [
    "distFlow_fileName = 'disturbance_200.csv'\n",
    "distFlow = np.loadtxt(distFlow_fileName, delimiter=',')\n",
    "\n",
    "env = tank_environment(pre_def_dist=True, pre_distFlow=distFlow)\n",
    "state = env.reset()\n",
    "\n",
    "level_hist = []\n",
    "valve_opening_hist = []\n",
    "\n",
    "actor = keras.models.load_model('actor_saved')\n",
    "for step in range(n_steps):\n",
    "    # take action\n",
    "    action = actor.predict(state.reshape(1,-1)).flatten()\n",
    "    valve_opening_hist.append(action[0])\n",
    "    \n",
    "    # implement action, get back new state and reward\n",
    "    next_state, reward, done = env.step_test(action[0], step)\n",
    "    \n",
    "    # store\n",
    "    level_hist.append(next_state[0]*env.height)\n",
    "    \n",
    "    # check termination\n",
    "    if done:\n",
    "        break\n",
    "    else:\n",
    "       state =  next_state"
   ]
  },
  {
   "cell_type": "code",
   "execution_count": 10,
   "metadata": {},
   "outputs": [
    {
     "data": {
      "image/png": "[encoded data removed]",
      "text/plain": [
       "<Figure size 432x288 with 1 Axes>"
      ]
     },
     "metadata": {
      "needs_background": "light"
     },
     "output_type": "display_data"
    },
    {
     "data": {
      "image/png": "[encoded data removed]",
      "text/plain": [
       "<Figure size 432x288 with 1 Axes>"
      ]
     },
     "metadata": {
      "needs_background": "light"
     },
     "output_type": "display_data"
    },
    {
     "data": {
      "image/png": "[encoded data removed]",
      "text/plain": [
       "<Figure size 432x288 with 1 Axes>"
      ]
     },
     "metadata": {
      "needs_background": "light"
     },
     "output_type": "display_data"
    }
   ],
   "source": [
    "# plots\n",
    "import matplotlib.pyplot as plt\n",
    "\n",
    "plt.figure()\n",
    "plt.plot(level_hist, color='peru')\n",
    "plt.ylabel('Liquid level (m)')\n",
    "plt.xlabel('Time [s]')\n",
    "plt.grid()\n",
    "\n",
    "plt.figure()\n",
    "plt.plot(valve_opening_hist, color='peru')\n",
    "plt.ylabel('Valve opening fraction')\n",
    "plt.xlabel('Time [s]')\n",
    "plt.grid()\n",
    "\n",
    "plt.figure()\n",
    "plt.plot(distFlow, color='peru')\n",
    "plt.ylabel('Disturbance flow (m3/s)')\n",
    "plt.xlabel('Time [s]')\n",
    "plt.grid()\n",
    "\n",
    "plt.show()"
   ]
  }
 ],
 "metadata": {
  "kernelspec": {
   "display_name": "Python 3 (ipykernel)",
   "language": "python",
   "name": "python3"
  },
  "language_info": {
   "codemirror_mode": {
    "name": "ipython",
    "version": 3
   },
   "file_extension": ".py",
   "mimetype": "text/x-python",
   "name": "python",
   "nbconvert_exporter": "python",
   "pygments_lexer": "ipython3",
   "version": "3.9.7"
  }
 },
 "nbformat": 4,
 "nbformat_minor": 2
}
