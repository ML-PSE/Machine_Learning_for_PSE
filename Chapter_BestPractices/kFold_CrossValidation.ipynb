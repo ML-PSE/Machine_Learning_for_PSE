{
 "cells": [
  {
   "cell_type": "markdown",
   "metadata": {},
   "source": [
    "# Chapter: Best Practices\n",
    "\n",
    "# Topic: K-fold Cross Validation for Model Tuning"
   ]
  },
  {
   "cell_type": "code",
   "execution_count": 1,
   "metadata": {},
   "outputs": [],
   "source": [
    "# read data\n",
    "import numpy as np\n",
    "data = np.loadtxt('quadratic_raw_data.csv', delimiter=',')\n",
    "x = data[:,0,None]; y = data[:,1,None]"
   ]
  },
  {
   "cell_type": "code",
   "execution_count": 2,
   "metadata": {},
   "outputs": [],
   "source": [
    "# create pipeline\n",
    "from sklearn.pipeline import Pipeline\n",
    "from sklearn.preprocessing import PolynomialFeatures\n",
    "from sklearn.preprocessing import StandardScaler\n",
    "from sklearn.linear_model import LinearRegression\n",
    "\n",
    "pipe = Pipeline([('poly', PolynomialFeatures(include_bias=False)),\n",
    "                 ('scaler', StandardScaler()),\n",
    "                 ('model', LinearRegression())])"
   ]
  },
  {
   "cell_type": "code",
   "execution_count": 3,
   "metadata": {},
   "outputs": [],
   "source": [
    "# separate training and test data\n",
    "from sklearn.model_selection import train_test_split\n",
    "x_train, x_test, y_train, y_test = train_test_split(x, y, test_size=0.2, random_state=1)"
   ]
  },
  {
   "cell_type": "code",
   "execution_count": 5,
   "metadata": {},
   "outputs": [],
   "source": [
    "# generate k=3 folds on training data\n",
    "from sklearn.model_selection import KFold\n",
    "kfold = KFold(n_splits = 3, shuffle = True, random_state = 1)"
   ]
  },
  {
   "cell_type": "code",
   "execution_count": 6,
   "metadata": {},
   "outputs": [],
   "source": [
    "# compute validation performances using the K folds\n",
    "from sklearn.metrics import mean_squared_error as mse\n",
    "overall_fit_MSEs = [] # overall errors for different polynomial degrees  \n",
    "overall_val_MSEs = []\n",
    "\n",
    "max_polyDegree = 5\n",
    "for poly_degree in range(1,max_polyDegree+1):# loop over hyperparameters\n",
    "    pipe['poly'].degree = poly_degree\n",
    "    \n",
    "    split_fit_MSEs = [] # errors for different splits \n",
    "    split_val_MSEs = []\n",
    "    \n",
    "    for fit_indices, val_indices in kfold.split(x_train): # loop over splits\n",
    "        x_fit = x_train[fit_indices]\n",
    "        y_fit = y_train[fit_indices]\n",
    "        x_val = x_train[val_indices]\n",
    "        y_val = y_train[val_indices]\n",
    "        \n",
    "        # fit & predict\n",
    "        pipe.fit(x_fit, y_fit)\n",
    "        y_pred_fit = pipe.predict(x_fit)\n",
    "        y_pred_val = pipe.predict(x_val)\n",
    "        \n",
    "        # compute average error and append\n",
    "        split_fit_MSEs.append(mse(y_fit, y_pred_fit))\n",
    "        split_val_MSEs.append(mse(y_val, y_pred_val))\n",
    "    \n",
    "    overall_fit_MSEs.append(np.mean(split_fit_MSEs))\n",
    "    overall_val_MSEs.append(np.mean(split_val_MSEs))"
   ]
  },
  {
   "cell_type": "code",
   "execution_count": 8,
   "metadata": {},
   "outputs": [
    {
     "data": {
      "image/png": "[encoded data removed]",
      "text/plain": [
       "<Figure size 432x288 with 1 Axes>"
      ]
     },
     "metadata": {
      "needs_background": "light"
     },
     "output_type": "display_data"
    }
   ],
   "source": [
    "# plot validation curve\n",
    "from matplotlib import pyplot as plt\n",
    "plt.figure()\n",
    "plt.plot(np.arange(1,max_polyDegree+1), overall_fit_MSEs, 'b--', label='fitting MSEs')\n",
    "plt.plot(np.arange(1,max_polyDegree+1), overall_val_MSEs, 'g--', label='validation MSEs')\n",
    "plt.legend(), plt.xlabel('Polynomial degree'), plt.ylabel('MSE')\n",
    "plt.xticks(np.arange(1,max_polyDegree+1))\n",
    "plt.show()"
   ]
  }
 ],
 "metadata": {
  "kernelspec": {
   "display_name": "Python 3 (ipykernel)",
   "language": "python",
   "name": "python3"
  },
  "language_info": {
   "codemirror_mode": {
    "name": "ipython",
    "version": 3
   },
   "file_extension": ".py",
   "mimetype": "text/x-python",
   "name": "python",
   "nbconvert_exporter": "python",
   "pygments_lexer": "ipython3",
   "version": "3.9.7"
  }
 },
 "nbformat": 4,
 "nbformat_minor": 2
}
