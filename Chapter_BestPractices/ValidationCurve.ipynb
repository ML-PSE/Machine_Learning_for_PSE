{
 "cells": [
  {
   "cell_type": "markdown",
   "metadata": {},
   "source": [
    "# Chapter: Best Practices\n",
    "\n",
    "# Topic: Validation Curve"
   ]
  },
  {
   "cell_type": "code",
   "execution_count": 2,
   "metadata": {},
   "outputs": [],
   "source": [
    "# read data\n",
    "import numpy as np\n",
    "data = np.loadtxt('quadratic_raw_data.csv', delimiter=',')\n",
    "x = data[:,0,None]; y = data[:,1,None]"
   ]
  },
  {
   "cell_type": "code",
   "execution_count": 3,
   "metadata": {},
   "outputs": [],
   "source": [
    "# create pipeline\n",
    "from sklearn.pipeline import Pipeline\n",
    "from sklearn.preprocessing import PolynomialFeatures\n",
    "from sklearn.preprocessing import StandardScaler\n",
    "from sklearn.linear_model import LinearRegression\n",
    "\n",
    "pipe = Pipeline([('poly', PolynomialFeatures(include_bias=False)),\n",
    "                 ('scaler', StandardScaler()),\n",
    "                 ('model', LinearRegression())])"
   ]
  },
  {
   "cell_type": "code",
   "execution_count": 4,
   "metadata": {},
   "outputs": [],
   "source": [
    "# separate fitting and validation data\n",
    "from sklearn.model_selection import train_test_split\n",
    "x_fit, x_val, y_fit, y_val = train_test_split(x, y, test_size=0.2, random_state=1)"
   ]
  },
  {
   "cell_type": "code",
   "execution_count": 5,
   "metadata": {},
   "outputs": [],
   "source": [
    "# assess performance on validation sets for different hyper-parameter values\n",
    "from sklearn.metrics import mean_squared_error as mse\n",
    "fit_MSEs = []\n",
    "validation_MSEs = [] \n",
    "\n",
    "for poly_degree in range(1,6):\n",
    "    # set hyper-parameter value\n",
    "    pipe['poly'].degree = poly_degree\n",
    "    \n",
    "    # fit & predict\n",
    "    pipe.fit(x_fit, y_fit)\n",
    "    y_pred_fit = pipe.predict(x_fit)\n",
    "    y_pred_val = pipe.predict(x_val)\n",
    "    \n",
    "    # compute scores and append\n",
    "    fit_MSE = mse(y_fit, y_pred_fit)\n",
    "    validation_MSE = mse(y_val, y_pred_val)\n",
    "    fit_MSEs.append(fit_MSE), validation_MSEs.append(validation_MSE)"
   ]
  },
  {
   "cell_type": "code",
   "execution_count": 6,
   "metadata": {},
   "outputs": [
    {
     "data": {
      "image/png": "[encoded data removed]",
      "text/plain": [
       "<Figure size 432x288 with 1 Axes>"
      ]
     },
     "metadata": {
      "needs_background": "light"
     },
     "output_type": "display_data"
    }
   ],
   "source": [
    "# plot validation curve\n",
    "from matplotlib import pyplot as plt\n",
    "plt.figure()\n",
    "plt.plot(np.arange(1,6), fit_MSEs, 'b--', label='fitting MSEs')\n",
    "plt.plot(np.arange(1,6), validation_MSEs, 'g--', label='validation MSEs')\n",
    "plt.legend(), plt.xlabel('Polynomial degree'), plt.ylabel('MSE')\n",
    "plt.xticks([1,2,3,4,5])\n",
    "plt.show()"
   ]
  }
 ],
 "metadata": {
  "kernelspec": {
   "display_name": "Python 3 (ipykernel)",
   "language": "python",
   "name": "python3"
  },
  "language_info": {
   "codemirror_mode": {
    "name": "ipython",
    "version": 3
   },
   "file_extension": ".py",
   "mimetype": "text/x-python",
   "name": "python",
   "nbconvert_exporter": "python",
   "pygments_lexer": "ipython3",
   "version": "3.9.7"
  }
 },
 "nbformat": 4,
 "nbformat_minor": 2
}
