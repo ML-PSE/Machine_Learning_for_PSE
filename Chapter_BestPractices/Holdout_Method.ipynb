{
 "cells": [
  {
   "cell_type": "markdown",
   "metadata": {},
   "source": [
    "# Chapter: Best Practices\n",
    "\n",
    "# Topic: Holdout Method"
   ]
  },
  {
   "cell_type": "code",
   "execution_count": 2,
   "metadata": {},
   "outputs": [],
   "source": [
    "# read data\n",
    "import numpy as np\n",
    "data = np.loadtxt('quadratic_raw_data.csv', delimiter=',')\n",
    "x = data[:,0,None]; y = data[:,1,None]"
   ]
  },
  {
   "cell_type": "code",
   "execution_count": 3,
   "metadata": {},
   "outputs": [],
   "source": [
    "# create pipeline for quadratic fit via linear model \n",
    "# import relevant classes\n",
    "from sklearn.pipeline import Pipeline\n",
    "from sklearn.preprocessing import PolynomialFeatures\n",
    "from sklearn.preprocessing import StandardScaler\n",
    "from sklearn.linear_model import LinearRegression\n",
    "\n",
    "# add transformers and estimators sequentially as list of tuples\n",
    "# the names ‘poly’, ‘scaler’, ‘model’ can be used to access the individual elements of pipeline later \n",
    "pipe = Pipeline([('poly', PolynomialFeatures(degree=2, include_bias=False)),\n",
    "                 ('scaler', StandardScaler()),\n",
    "                 ('model', LinearRegression())])"
   ]
  },
  {
   "cell_type": "code",
   "execution_count": 4,
   "metadata": {},
   "outputs": [
    {
     "name": "stdout",
     "output_type": "stream",
     "text": [
      "Number of samples in training set:  20\n",
      "Number of samples in test set:  5\n"
     ]
    }
   ],
   "source": [
    "# separate training data\n",
    "from sklearn.model_selection import train_test_split\n",
    "x_train, x_test, y_train, y_test = train_test_split(x, y, test_size=0.2, random_state=1)\n",
    "\n",
    "print('Number of samples in training set: ', x_train.shape[0])\n",
    "print('Number of samples in test set: ', x_test.shape[0])"
   ]
  },
  {
   "cell_type": "code",
   "execution_count": 5,
   "metadata": {},
   "outputs": [],
   "source": [
    "# fit pipeline and predict\n",
    "pipe.fit(x_train, y_train)\n",
    "y_predicted_train = pipe.predict(x_train)\n",
    "y_predicted_test = pipe.predict(x_test)"
   ]
  },
  {
   "cell_type": "code",
   "execution_count": 6,
   "metadata": {},
   "outputs": [
    {
     "name": "stdout",
     "output_type": "stream",
     "text": [
      "Training metric (mse) =  3.7890806998433058\n",
      "Test metric (mse) =  3.555863654377994\n"
     ]
    }
   ],
   "source": [
    "# performance metrics\n",
    "from sklearn.metrics import mean_squared_error as mse\n",
    "\n",
    "print('Training metric (mse) = ', mse(y_train, y_predicted_train))\n",
    "print('Test metric (mse) = ', mse(y_test, y_predicted_test))"
   ]
  },
  {
   "cell_type": "code",
   "execution_count": 7,
   "metadata": {},
   "outputs": [
    {
     "data": {
      "image/png": "[encoded data removed]",
      "text/plain": [
       "<Figure size 432x288 with 1 Axes>"
      ]
     },
     "metadata": {
      "needs_background": "light"
     },
     "output_type": "display_data"
    }
   ],
   "source": [
    "# plot predictions\n",
    "y_predicted = pipe.predict(x)\n",
    "\n",
    "from matplotlib import pyplot as plt\n",
    "plt.figure()\n",
    "plt.plot(x_train,y_train, 'bo', label='raw training data')\n",
    "plt.plot(x_test,y_test, 'ro', label='raw test data')\n",
    "plt.plot(x,y_predicted, color='orange', label='quadratic fit')\n",
    "plt.legend()\n",
    "plt.xlabel('x'), plt.ylabel('y')\n",
    "plt.show()"
   ]
  }
 ],
 "metadata": {
  "kernelspec": {
   "display_name": "Python 3 (ipykernel)",
   "language": "python",
   "name": "python3"
  },
  "language_info": {
   "codemirror_mode": {
    "name": "ipython",
    "version": 3
   },
   "file_extension": ".py",
   "mimetype": "text/x-python",
   "name": "python",
   "nbconvert_exporter": "python",
   "pygments_lexer": "ipython3",
   "version": "3.9.7"
  }
 },
 "nbformat": 4,
 "nbformat_minor": 2
}
