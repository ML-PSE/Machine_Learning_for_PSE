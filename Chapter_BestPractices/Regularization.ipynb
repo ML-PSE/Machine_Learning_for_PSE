{
 "cells": [
  {
   "cell_type": "markdown",
   "metadata": {},
   "source": [
    "# Chapter: Best Practices\n",
    "\n",
    "# Topic:  Regularization to prevent overfitting"
   ]
  },
  {
   "cell_type": "code",
   "execution_count": 1,
   "metadata": {},
   "outputs": [],
   "source": [
    "# read data\n",
    "import numpy as np\n",
    "data = np.loadtxt('quadratic_raw_data.csv', delimiter=',')\n",
    "x = data[:,0,None]; y = data[:,1,None]\n",
    "\n",
    "# separate training data\n",
    "from sklearn.model_selection import train_test_split\n",
    "x_train, x_test, y_train, y_test = train_test_split(x, y, test_size=0.2, random_state=1)"
   ]
  },
  {
   "cell_type": "code",
   "execution_count": 2,
   "metadata": {},
   "outputs": [],
   "source": [
    "##%%%%%%%%%%%%%%%%%%%%%%%%%%%%%%%%%%%%%%%%%%%%%%%%%%%%%%%%%%%%%%%%%%%%%%%%%%%%%\n",
    "##                    Ordinary Least Squares Regression\n",
    "## %%%%%%%%%%%%%%%%%%%%%%%%%%%%%%%%%%%%%%%%%%%%%%%%%%%%%%%%%%%%%%%%%%%%%%%%%%%%"
   ]
  },
  {
   "cell_type": "code",
   "execution_count": 3,
   "metadata": {},
   "outputs": [],
   "source": [
    "# create pipeline for quadratic fit via OLS\n",
    "from sklearn.pipeline import Pipeline\n",
    "from sklearn.preprocessing import PolynomialFeatures\n",
    "from sklearn.preprocessing import StandardScaler\n",
    "from sklearn.linear_model import LinearRegression\n",
    "\n",
    "pipe_OLS = Pipeline([('poly', PolynomialFeatures(degree=10, include_bias=False)),\n",
    "                 ('scaler', StandardScaler()),\n",
    "                 ('model', LinearRegression())])"
   ]
  },
  {
   "cell_type": "code",
   "execution_count": 4,
   "metadata": {},
   "outputs": [],
   "source": [
    "# fit pipeline and predict\n",
    "pipe_OLS.fit(x_train, y_train)\n",
    "y_predicted_train_OLS = pipe_OLS.predict(x_train)\n",
    "y_predicted_test_OLS = pipe_OLS.predict(x_test)"
   ]
  },
  {
   "cell_type": "code",
   "execution_count": 5,
   "metadata": {},
   "outputs": [
    {
     "name": "stdout",
     "output_type": "stream",
     "text": [
      "OLS Training metric (mse) =  0.313071428072055\n",
      "OLS Test metric (mse) =  6.9508263488478885\n"
     ]
    }
   ],
   "source": [
    "# performance metrics\n",
    "from sklearn.metrics import mean_squared_error as mse\n",
    "\n",
    "print('OLS Training metric (mse) = ', mse(y_train, y_predicted_train_OLS))\n",
    "print('OLS Test metric (mse) = ', mse(y_test, y_predicted_test_OLS))"
   ]
  },
  {
   "cell_type": "code",
   "execution_count": 6,
   "metadata": {},
   "outputs": [
    {
     "data": {
      "image/png": "[encoded data removed]",
      "text/plain": [
       "<Figure size 432x288 with 1 Axes>"
      ]
     },
     "metadata": {
      "needs_background": "light"
     },
     "output_type": "display_data"
    }
   ],
   "source": [
    "# plot predictions\n",
    "y_predicted_OLS = pipe_OLS.predict(x)\n",
    "\n",
    "from matplotlib import pyplot as plt\n",
    "plt.figure()\n",
    "plt.plot(x_train,y_train, 'bo', label='raw training data')\n",
    "plt.plot(x_test,y_test, 'ro', label='raw test data')\n",
    "plt.plot(x,y_predicted_OLS, color='orange', label='OLS fit')\n",
    "plt.legend()\n",
    "plt.xlabel('x'), plt.ylabel('y')\n",
    "plt.show()"
   ]
  },
  {
   "cell_type": "code",
   "execution_count": 8,
   "metadata": {},
   "outputs": [
    {
     "name": "stdout",
     "output_type": "stream",
     "text": [
      "[[-1.96123403e+00 -1.70142862e+01  1.61112987e+02  5.53503743e+02\n",
      "  -1.47185815e+03 -5.24500174e+03  9.88824037e+02  1.58830783e+04\n",
      "   1.72273909e+04  5.73349950e+03]]\n"
     ]
    }
   ],
   "source": [
    "# print coefficients\n",
    "print(pipe_OLS['model'].coef_)"
   ]
  },
  {
   "cell_type": "code",
   "execution_count": 9,
   "metadata": {},
   "outputs": [],
   "source": [
    "##%%%%%%%%%%%%%%%%%%%%%%%%%%%%%%%%%%%%%%%%%%%%%%%%%%%%%%%%%%%%%%%%%%%%%%%%%%%%%\n",
    "##                    Ridge Regression\n",
    "## %%%%%%%%%%%%%%%%%%%%%%%%%%%%%%%%%%%%%%%%%%%%%%%%%%%%%%%%%%%%%%%%%%%%%%%%%%%%"
   ]
  },
  {
   "cell_type": "code",
   "execution_count": 10,
   "metadata": {},
   "outputs": [],
   "source": [
    "# create pipeline for quadratic fit via ridge model \n",
    "from sklearn.pipeline import Pipeline\n",
    "from sklearn.preprocessing import PolynomialFeatures\n",
    "from sklearn.preprocessing import StandardScaler\n",
    "from sklearn.linear_model import Ridge\n",
    "\n",
    "pipe_L2 = Pipeline([('poly', PolynomialFeatures(degree=10,include_bias=False)),\n",
    "                    ('scaler', StandardScaler()),\n",
    "                    ('model', Ridge(alpha=0.1))])\n"
   ]
  },
  {
   "cell_type": "code",
   "execution_count": 11,
   "metadata": {},
   "outputs": [],
   "source": [
    "# fit pipeline and predict\n",
    "pipe_L2.fit(x_train, y_train)\n",
    "y_predicted_train_L2 = pipe_L2.predict(x_train)\n",
    "y_predicted_test_L2 = pipe_L2.predict(x_test)"
   ]
  },
  {
   "cell_type": "code",
   "execution_count": 12,
   "metadata": {},
   "outputs": [
    {
     "name": "stdout",
     "output_type": "stream",
     "text": [
      "L2 Training metric (mse) =  3.197250376366909\n",
      "L2 Test metric (mse) =  3.4474715991628373\n"
     ]
    }
   ],
   "source": [
    "# performance metrics\n",
    "from sklearn.metrics import mean_squared_error as mse\n",
    "\n",
    "print('L2 Training metric (mse) = ', mse(y_train, y_predicted_train_L2))\n",
    "print('L2 Test metric (mse) = ', mse(y_test, y_predicted_test_L2))"
   ]
  },
  {
   "cell_type": "code",
   "execution_count": 13,
   "metadata": {},
   "outputs": [
    {
     "data": {
      "image/png": "[encoded data removed]",
      "text/plain": [
       "<Figure size 432x288 with 1 Axes>"
      ]
     },
     "metadata": {
      "needs_background": "light"
     },
     "output_type": "display_data"
    }
   ],
   "source": [
    "# plot predictions\n",
    "y_predicted_L2 = pipe_L2.predict(x)\n",
    "\n",
    "plt.figure()\n",
    "plt.plot(x_train,y_train, 'bo', label='raw training data')\n",
    "plt.plot(x_test,y_test, 'ro', label='raw test data')\n",
    "plt.plot(x,y_predicted_L2, color='orange', label='Ridge fit')\n",
    "plt.legend()\n",
    "plt.xlabel('x'), plt.ylabel('y')\n",
    "plt.show()"
   ]
  },
  {
   "cell_type": "code",
   "execution_count": 14,
   "metadata": {},
   "outputs": [
    {
     "name": "stdout",
     "output_type": "stream",
     "text": [
      "[[ 0.27326159  3.49270237 -0.35861471  0.59074719 -1.20522322  1.9065296\n",
      "  -1.80640701  0.86690221  0.87244476 -3.20685088]]\n"
     ]
    }
   ],
   "source": [
    "# print coefficients\n",
    "print(pipe_L2['model'].coef_)"
   ]
  },
  {
   "cell_type": "code",
   "execution_count": 15,
   "metadata": {},
   "outputs": [],
   "source": [
    "##%%%%%%%%%%%%%%%%%%%%%%%%%%%%%%%%%%%%%%%%%%%%%%%%%%%%%%%%%%%%%%%%%%%%%%%%%%%%%\n",
    "##                    Lasso Regression\n",
    "## %%%%%%%%%%%%%%%%%%%%%%%%%%%%%%%%%%%%%%%%%%%%%%%%%%%%%%%%%%%%%%%%%%%%%%%%%%%%"
   ]
  },
  {
   "cell_type": "code",
   "execution_count": 16,
   "metadata": {},
   "outputs": [],
   "source": [
    "# create pipeline for quadratic fit via ridge model \n",
    "from sklearn.pipeline import Pipeline\n",
    "from sklearn.preprocessing import PolynomialFeatures\n",
    "from sklearn.preprocessing import StandardScaler\n",
    "from sklearn.linear_model import Lasso\n",
    "\n",
    "pipe_L1 = Pipeline([('poly', PolynomialFeatures(degree=10,include_bias=False)),\n",
    "                    ('scaler', StandardScaler()),\n",
    "                    ('model', Lasso(alpha=0.1))])"
   ]
  },
  {
   "cell_type": "code",
   "execution_count": 17,
   "metadata": {},
   "outputs": [],
   "source": [
    "# fit pipeline and predict\n",
    "pipe_L1.fit(x_train, y_train)\n",
    "y_predicted_train_L1 = pipe_L1.predict(x_train)\n",
    "y_predicted_test_L1 = pipe_L1.predict(x_test)"
   ]
  },
  {
   "cell_type": "code",
   "execution_count": 18,
   "metadata": {},
   "outputs": [
    {
     "name": "stdout",
     "output_type": "stream",
     "text": [
      "L1 Training metric (mse) =  3.5966292903741497\n",
      "L1 Test metric (mse) =  3.9280112362976154\n"
     ]
    }
   ],
   "source": [
    "# performance metrics\n",
    "from sklearn.metrics import mean_squared_error as mse\n",
    "\n",
    "print('L1 Training metric (mse) = ', mse(y_train, y_predicted_train_L1))\n",
    "print('L1 Test metric (mse) = ', mse(y_test, y_predicted_test_L1))"
   ]
  },
  {
   "cell_type": "code",
   "execution_count": 19,
   "metadata": {},
   "outputs": [
    {
     "data": {
      "image/png": "[encoded data removed]",
      "text/plain": [
       "<Figure size 432x288 with 1 Axes>"
      ]
     },
     "metadata": {
      "needs_background": "light"
     },
     "output_type": "display_data"
    }
   ],
   "source": [
    "# plot predictions\n",
    "y_predicted_L1 = pipe_L1.predict(x)\n",
    "\n",
    "plt.figure()\n",
    "plt.plot(x_train,y_train, 'bo', label='raw training data')\n",
    "plt.plot(x_test,y_test, 'ro', label='raw test data')\n",
    "plt.plot(x,y_predicted_L1, color='orange', label='Lasso fit')\n",
    "plt.legend()\n",
    "plt.xlabel('x'), plt.ylabel('y')\n",
    "plt.show()"
   ]
  },
  {
   "cell_type": "code",
   "execution_count": 20,
   "metadata": {},
   "outputs": [
    {
     "name": "stdout",
     "output_type": "stream",
     "text": [
      "[-0.          4.38109181 -0.09273215  1.679048   -0.          0.\n",
      " -0.          0.          0.         -0.        ]\n"
     ]
    }
   ],
   "source": [
    "# print coefficients\n",
    "print(pipe_L1['model'].coef_)"
   ]
  }
 ],
 "metadata": {
  "kernelspec": {
   "display_name": "Python 3 (ipykernel)",
   "language": "python",
   "name": "python3"
  },
  "language_info": {
   "codemirror_mode": {
    "name": "ipython",
    "version": 3
   },
   "file_extension": ".py",
   "mimetype": "text/x-python",
   "name": "python",
   "nbconvert_exporter": "python",
   "pygments_lexer": "ipython3",
   "version": "3.9.7"
  }
 },
 "nbformat": 4,
 "nbformat_minor": 2
}
