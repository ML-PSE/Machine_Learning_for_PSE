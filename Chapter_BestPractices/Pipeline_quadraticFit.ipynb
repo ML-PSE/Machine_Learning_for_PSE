{
 "cells": [
  {
   "cell_type": "markdown",
   "metadata": {},
   "source": [
    "# Chapter: Best Practices\n",
    "\n",
    "# Topic: Quadratic fit using pipeline"
   ]
  },
  {
   "cell_type": "code",
   "execution_count": 2,
   "metadata": {},
   "outputs": [],
   "source": [
    "# read data\n",
    "import numpy as np\n",
    "data = np.loadtxt('quadratic_raw_data.csv', delimiter=',')\n",
    "x = data[:,0,None]; y = data[:,1,None]"
   ]
  },
  {
   "cell_type": "code",
   "execution_count": 4,
   "metadata": {},
   "outputs": [],
   "source": [
    "# create pipeline for quadratic fit via linear model \n",
    "# import relevant classes\n",
    "from sklearn.pipeline import Pipeline\n",
    "from sklearn.preprocessing import PolynomialFeatures\n",
    "from sklearn.preprocessing import StandardScaler\n",
    "from sklearn.linear_model import LinearRegression\n",
    "\n",
    "# add transformers and estimators sequentially as list of tuples\n",
    "# the names ‘poly’, ‘scaler’, ‘model’ can be used to access the individual elements of pipeline later \n",
    "pipe = Pipeline([('poly', PolynomialFeatures(degree=2, include_bias=False)),\n",
    "                 ('scaler', StandardScaler()),\n",
    "                 ('model', LinearRegression())])"
   ]
  },
  {
   "cell_type": "code",
   "execution_count": 5,
   "metadata": {},
   "outputs": [],
   "source": [
    "# fit pipeline and predict\n",
    "pipe.fit(x, y)\n",
    "y_predicted = pipe.predict(x)"
   ]
  },
  {
   "cell_type": "code",
   "execution_count": 6,
   "metadata": {},
   "outputs": [
    {
     "data": {
      "image/png": "[encoded data removed]",
      "text/plain": [
       "<Figure size 432x288 with 1 Axes>"
      ]
     },
     "metadata": {
      "needs_background": "light"
     },
     "output_type": "display_data"
    },
    {
     "name": "stdout",
     "output_type": "stream",
     "text": [
      "Fitting metric (R2) =  0.9161437726284858\n",
      "Fitting metric (R2) =  0.9161437726284858\n"
     ]
    }
   ],
   "source": [
    "# check predictions\n",
    "# plot\n",
    "from matplotlib import pyplot as plt\n",
    "plt.figure()\n",
    "plt.plot(x,y, 'o', label='raw data')\n",
    "plt.plot(x,y_predicted, label='quadratic fit')\n",
    "plt.legend()\n",
    "plt.xlabel('x'), plt.ylabel('y')\n",
    "plt.show()\n",
    "\n",
    "# performance metric\n",
    "from sklearn.metrics import r2_score\n",
    "print('Fitting metric (R2) = ', r2_score(y, y_predicted))\n",
    "\n",
    "# performance metric vis score method\n",
    "print('Fitting metric (R2) = ', pipe.score(x,y)) # no need to import metrics module"
   ]
  }
 ],
 "metadata": {
  "kernelspec": {
   "display_name": "Python 3 (ipykernel)",
   "language": "python",
   "name": "python3"
  },
  "language_info": {
   "codemirror_mode": {
    "name": "ipython",
    "version": 3
   },
   "file_extension": ".py",
   "mimetype": "text/x-python",
   "name": "python",
   "nbconvert_exporter": "python",
   "pygments_lexer": "ipython3",
   "version": "3.9.7"
  }
 },
 "nbformat": 4,
 "nbformat_minor": 2
}
