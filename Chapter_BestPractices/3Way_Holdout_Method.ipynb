{
 "cells": [
  {
   "cell_type": "markdown",
   "metadata": {},
   "source": [
    "# Chapter: Best Practices\n",
    "\n",
    "# Topic: 3Way Holdout Method"
   ]
  },
  {
   "cell_type": "code",
   "execution_count": 1,
   "metadata": {},
   "outputs": [],
   "source": [
    "# read data\n",
    "import numpy as np\n",
    "data = np.loadtxt('quadratic_raw_data.csv', delimiter=',')\n",
    "x = data[:,0,None]; y = data[:,1,None]"
   ]
  },
  {
   "cell_type": "code",
   "execution_count": 2,
   "metadata": {},
   "outputs": [],
   "source": [
    "# create pipeline for quadratic fit via linear model \n",
    "# import relevant classes\n",
    "from sklearn.pipeline import Pipeline\n",
    "from sklearn.preprocessing import PolynomialFeatures\n",
    "from sklearn.preprocessing import StandardScaler\n",
    "from sklearn.linear_model import LinearRegression\n",
    "\n",
    "# add transformers and estimators sequentially as list of tuples\n",
    "# the names ‘poly’, ‘scaler’, ‘model’ can be used to access the individual elements of pipeline later \n",
    "pipe = Pipeline([('poly', PolynomialFeatures(degree=2, include_bias=False)),\n",
    "                 ('scaler', StandardScaler()),\n",
    "                 ('model', LinearRegression())])"
   ]
  },
  {
   "cell_type": "code",
   "execution_count": 3,
   "metadata": {},
   "outputs": [
    {
     "name": "stdout",
     "output_type": "stream",
     "text": [
      "Number of samples in fitting set:  14\n",
      "Number of samples in validation set:  6\n",
      "Number of samples in test set:  5\n"
     ]
    }
   ],
   "source": [
    "# train-validate-test split\n",
    "from sklearn.model_selection import train_test_split\n",
    "x_train, x_test, y_train, y_test = train_test_split(x, y, test_size=0.2, random_state=1)\n",
    "x_fit, x_val, y_fit, y_val = train_test_split(x_train, y_train, test_size=0.3, random_state=1)\n",
    "\n",
    "print('Number of samples in fitting set: ', x_fit.shape[0])\n",
    "print('Number of samples in validation set: ', x_val.shape[0])\n",
    "print('Number of samples in test set: ', x_test.shape[0])"
   ]
  }
 ],
 "metadata": {
  "kernelspec": {
   "display_name": "Python 3 (ipykernel)",
   "language": "python",
   "name": "python3"
  },
  "language_info": {
   "codemirror_mode": {
    "name": "ipython",
    "version": 3
   },
   "file_extension": ".py",
   "mimetype": "text/x-python",
   "name": "python",
   "nbconvert_exporter": "python",
   "pygments_lexer": "ipython3",
   "version": "3.9.7"
  }
 },
 "nbformat": 4,
 "nbformat_minor": 2
}
