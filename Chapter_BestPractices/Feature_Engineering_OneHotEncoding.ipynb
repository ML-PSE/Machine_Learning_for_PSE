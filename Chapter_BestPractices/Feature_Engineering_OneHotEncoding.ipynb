{
 "cells": [
  {
   "cell_type": "markdown",
   "metadata": {},
   "source": [
    "# Chapter: Best Practices\n",
    "\n",
    "# Topic: Feature Engineering (one-hot encoding)"
   ]
  },
  {
   "cell_type": "code",
   "execution_count": 2,
   "metadata": {},
   "outputs": [
    {
     "name": "stdout",
     "output_type": "stream",
     "text": [
      "[[1. 0. 0.]\n",
      " [0. 0. 1.]\n",
      " [0. 1. 0.]\n",
      " [0. 0. 1.]]\n",
      "[array(['type A', 'type B', 'type C'], dtype='<U6')]\n"
     ]
    }
   ],
   "source": [
    "import numpy as np\n",
    "from sklearn.preprocessing import OneHotEncoder\n",
    "\n",
    "x = np.array([['type A'],\n",
    "              ['type C'],\n",
    "              ['type B'],\n",
    "              ['type C']])\n",
    "ohe = OneHotEncoder(sparse=False) # sparse=False returns array\n",
    "X_encoded = ohe.fit_transform(x) # x in numerical form\n",
    "\n",
    "print(X_encoded)\n",
    "print(ohe.categories_)"
   ]
  }
 ],
 "metadata": {
  "kernelspec": {
   "display_name": "Python 3 (ipykernel)",
   "language": "python",
   "name": "python3"
  },
  "language_info": {
   "codemirror_mode": {
    "name": "ipython",
    "version": 3
   },
   "file_extension": ".py",
   "mimetype": "text/x-python",
   "name": "python",
   "nbconvert_exporter": "python",
   "pygments_lexer": "ipython3",
   "version": "3.9.7"
  }
 },
 "nbformat": 4,
 "nbformat_minor": 2
}
