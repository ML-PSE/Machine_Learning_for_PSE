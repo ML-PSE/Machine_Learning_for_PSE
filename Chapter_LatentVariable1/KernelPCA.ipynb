{
 "cells": [
  {
   "cell_type": "markdown",
   "metadata": {},
   "source": [
    "# Chapter: Dimension Reduction and Latent Variable Methods (Part 1)\n",
    "\n",
    "# Topic: Kernal PCA"
   ]
  },
  {
   "cell_type": "code",
   "execution_count": 2,
   "metadata": {},
   "outputs": [],
   "source": [
    "# import required packages\n",
    "import numpy as np\n",
    "import pandas as pd\n",
    "from sklearn.preprocessing import StandardScaler\n",
    "from sklearn.decomposition import KernelPCA"
   ]
  },
  {
   "cell_type": "code",
   "execution_count": 3,
   "metadata": {},
   "outputs": [],
   "source": [
    "# fetch data\n",
    "data = pd.read_excel('KPCA_example.xlsx')\n",
    "           \n",
    "# scale data\n",
    "scaler = StandardScaler()\n",
    "data_train_normal = scaler.fit_transform(data)\n",
    "           \n",
    "# PCA\n",
    "kpca = KernelPCA(kernel='rbf', gamma = 1)\n",
    "score = kpca.fit_transform(data)"
   ]
  },
  {
   "cell_type": "code",
   "execution_count": 5,
   "metadata": {},
   "outputs": [
    {
     "data": {
      "image/png": "[encoded data removed]",
      "text/plain": [
       "<Figure size 432x288 with 1 Axes>"
      ]
     },
     "metadata": {
      "needs_background": "light"
     },
     "output_type": "display_data"
    }
   ],
   "source": [
    "# visualize explained variance\n",
    "import matplotlib.pyplot as plt\n",
    "\n",
    "lambdas = kpca.lambdas_\n",
    "explained_variance_ratio = lambdas/np.sum(lambdas)\n",
    "\n",
    "explained_variance = 100*explained_variance_ratio # in percentage\n",
    "cum_explained_variance = np.cumsum(explained_variance) # cumulative % variance explained\n",
    "\n",
    "plt.figure()\n",
    "plt.plot(cum_explained_variance, 'r+', label = 'cumulative % variance explained')\n",
    "plt.plot(explained_variance, 'b+' , label = '% variance explained by each PC')\n",
    "plt.ylabel('Explained variance (in %)')\n",
    "plt.xlabel('Principal component number')\n",
    "plt.legend()\n",
    "plt.show()"
   ]
  },
  {
   "cell_type": "code",
   "execution_count": 6,
   "metadata": {},
   "outputs": [
    {
     "name": "stdout",
     "output_type": "stream",
     "text": [
      "Number of PCs cumulatively explaining atleast 90% variance:  5\n"
     ]
    }
   ],
   "source": [
    "# decide # of PCs to retain and compute reduced data in PC space\n",
    "n_comp = np.argmax(cum_explained_variance >= 90) + 1\n",
    "score_reduced = score[:,0:n_comp]\n",
    "\n",
    "print('Number of PCs cumulatively explaining atleast 90% variance: ', n_comp)"
   ]
  },
  {
   "cell_type": "code",
   "execution_count": null,
   "metadata": {},
   "outputs": [],
   "source": []
  }
 ],
 "metadata": {
  "kernelspec": {
   "display_name": "Python 3",
   "language": "python",
   "name": "python3"
  },
  "language_info": {
   "codemirror_mode": {
    "name": "ipython",
    "version": 3
   },
   "file_extension": ".py",
   "mimetype": "text/x-python",
   "name": "python",
   "nbconvert_exporter": "python",
   "pygments_lexer": "ipython3",
   "version": "3.7.4"
  }
 },
 "nbformat": 4,
 "nbformat_minor": 2
}
