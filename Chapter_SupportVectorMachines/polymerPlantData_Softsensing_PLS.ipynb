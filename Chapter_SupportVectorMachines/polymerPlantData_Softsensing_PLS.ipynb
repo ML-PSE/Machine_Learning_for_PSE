{
 "cells": [
  {
   "cell_type": "markdown",
   "metadata": {},
   "source": [
    "# Chapter: Support Vector Machines & Kernel Methods\n",
    "\n",
    "\n",
    "# Topic: PLS model with polymer pilot plant data"
   ]
  },
  {
   "cell_type": "code",
   "execution_count": 2,
   "metadata": {},
   "outputs": [],
   "source": [
    "# import required packages\n",
    "import numpy as np\n",
    "import matplotlib.pyplot as plt"
   ]
  },
  {
   "cell_type": "code",
   "execution_count": 3,
   "metadata": {},
   "outputs": [],
   "source": [
    "# read data\n",
    "data = np.loadtxt('polymer.dat')\n",
    "X = data[:,0:10]\n",
    "Y = data[:,10:]\n",
    "y = Y[:,2:3]"
   ]
  },
  {
   "cell_type": "code",
   "execution_count": 4,
   "metadata": {},
   "outputs": [],
   "source": [
    "# scale data\n",
    "from sklearn.preprocessing import StandardScaler\n",
    "\n",
    "X_scaler = StandardScaler()\n",
    "X_scaled = X_scaler.fit_transform(X)\n",
    "\n",
    "y_scaler = StandardScaler()\n",
    "y_scaled = y_scaler.fit_transform(y)"
   ]
  },
  {
   "cell_type": "code",
   "execution_count": 7,
   "metadata": {},
   "outputs": [
    {
     "data": {
      "image/png": "[encoded data removed]",
      "text/plain": [
       "<Figure size 432x288 with 1 Axes>"
      ]
     },
     "metadata": {
      "needs_background": "light"
     },
     "output_type": "display_data"
    }
   ],
   "source": [
    "# Finding # latents using kFold cross validation\n",
    "from sklearn.model_selection import KFold\n",
    "from sklearn.metrics import mean_squared_error\n",
    "from sklearn.cross_decomposition import PLSRegression\n",
    "\n",
    "scaler = StandardScaler()\n",
    "\n",
    "fit_MSE = []\n",
    "validate_MSE = []\n",
    "for n_comp in range(1,10):\n",
    "    local_fit_MSE = []\n",
    "    local_validate_MSE = []\n",
    "    \n",
    "    kfold = KFold(n_splits = 10, shuffle = True, random_state = 100)\n",
    "    for fit_index, validate_index in kfold.split(y):\n",
    "        X_fit_scaled = scaler.fit_transform(X[fit_index])\n",
    "        X_validate_scaled = scaler.transform(X[validate_index])\n",
    "        \n",
    "        y_fit_scaled = scaler.fit_transform(y[fit_index])\n",
    "        y_validate_scaled = scaler.transform(y[validate_index])\n",
    "        \n",
    "        pls = PLSRegression(n_components = n_comp)\n",
    "        pls.fit(X_fit_scaled, y_fit_scaled)\n",
    "        \n",
    "        local_fit_MSE.append(mean_squared_error(y_fit_scaled, pls.predict(X_fit_scaled)))\n",
    "        local_validate_MSE.append(mean_squared_error(y_validate_scaled, \n",
    "                                                        pls.predict(X_validate_scaled)))\n",
    "    \n",
    "    fit_MSE.append(np.mean(local_fit_MSE))\n",
    "    validate_MSE.append(np.mean(local_validate_MSE))\n",
    "\n",
    "\n",
    "# plot\n",
    "plt.figure()\n",
    "plt.plot(range(1,10), fit_MSE, 'b*', label = 'Training MSE')\n",
    "plt.plot(range(1,10), validate_MSE, 'r*', label = 'Validation MSE')\n",
    "plt.xticks(range(1,10))\n",
    "plt.ylabel('Mean Squared Error (MSE)')\n",
    "plt.xlabel('# of latents')\n",
    "plt.legend()\n",
    "plt.show()"
   ]
  },
  {
   "cell_type": "code",
   "execution_count": 8,
   "metadata": {},
   "outputs": [],
   "source": [
    "# build PLS model and predict\n",
    "from sklearn.cross_decomposition import PLSRegression\n",
    "\n",
    "pls = PLSRegression(n_components = 5)\n",
    "pls.fit(X_scaled, y_scaled)\n",
    "\n",
    "y_predicted_PLS = y_scaler.inverse_transform(pls.predict(X_scaled))"
   ]
  },
  {
   "cell_type": "code",
   "execution_count": 9,
   "metadata": {},
   "outputs": [
    {
     "data": {
      "image/png": "[encoded data removed]",
      "text/plain": [
       "<Figure size 432x288 with 1 Axes>"
      ]
     },
     "metadata": {
      "needs_background": "light"
     },
     "output_type": "display_data"
    }
   ],
   "source": [
    "# plots of raw and predicted data\n",
    "plt.figure()\n",
    "plt.plot(y, y_predicted_PLS, '.', markeredgecolor='k', markeredgewidth=0.5, ms=9, markerfacecolor = 'C4')\n",
    "plt.plot(y, y, '-r', linewidth=0.5)\n",
    "plt.xlabel('measured data')\n",
    "plt.ylabel('predicted data ')\n",
    "plt.show()"
   ]
  },
  {
   "cell_type": "code",
   "execution_count": 10,
   "metadata": {},
   "outputs": [
    {
     "name": "stdout",
     "output_type": "stream",
     "text": [
      "R2: 0.8593214241285132\n"
     ]
    }
   ],
   "source": [
    "# metrics\n",
    "from sklearn.metrics import r2_score\n",
    "print('R2:', r2_score(y, y_predicted_PLS))"
   ]
  }
 ],
 "metadata": {
  "kernelspec": {
   "display_name": "Python 3 (ipykernel)",
   "language": "python",
   "name": "python3"
  },
  "language_info": {
   "codemirror_mode": {
    "name": "ipython",
    "version": 3
   },
   "file_extension": ".py",
   "mimetype": "text/x-python",
   "name": "python",
   "nbconvert_exporter": "python",
   "pygments_lexer": "ipython3",
   "version": "3.9.7"
  }
 },
 "nbformat": 4,
 "nbformat_minor": 2
}
