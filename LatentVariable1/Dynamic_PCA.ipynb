{
 "cells": [
  {
   "cell_type": "code",
   "execution_count": 2,
   "metadata": {},
   "outputs": [],
   "source": [
    "import numpy as np\n",
    "import pandas as pd\n",
    "from sklearn.preprocessing import StandardScaler\n",
    "from sklearn.decomposition import PCA"
   ]
  },
  {
   "cell_type": "code",
   "execution_count": 3,
   "metadata": {},
   "outputs": [],
   "source": [
    "data = pd.read_excel('proc1a.xls', skiprows = 1,usecols = 'C:AI')"
   ]
  },
  {
   "cell_type": "code",
   "execution_count": 5,
   "metadata": {},
   "outputs": [],
   "source": [
    "data_train = data.iloc[0:69,]"
   ]
  },
  {
   "cell_type": "code",
   "execution_count": 6,
   "metadata": {},
   "outputs": [],
   "source": [
    "# %% augment training data\n",
    "lag = 5\n",
    "N = data_train.shape[0]\n",
    "m = data_train.shape[1]\n",
    "\n",
    "data_train_augmented = np.zeros((N-lag+1,lag*m))\n",
    "\n",
    "for sample in range(lag, N):\n",
    "    dataBlock = data_train.iloc[sample-lag:sample,:].values # converting from pandas dataframe to numpy array\n",
    "    data_train_augmented[sample-lag,:] = np.reshape(dataBlock, (1,-1), order = 'F')"
   ]
  },
  {
   "cell_type": "code",
   "execution_count": 7,
   "metadata": {},
   "outputs": [],
   "source": [
    "#%% scale data\n",
    "scaler = StandardScaler()\n",
    "data_train_augmented_normal = scaler.fit_transform(data_train_augmented)"
   ]
  },
  {
   "cell_type": "code",
   "execution_count": 8,
   "metadata": {},
   "outputs": [],
   "source": [
    "#%% PCA\n",
    "pca = PCA()\n",
    "score_train = pca.fit_transform(data_train_augmented_normal)"
   ]
  },
  {
   "cell_type": "code",
   "execution_count": null,
   "metadata": {},
   "outputs": [],
   "source": []
  }
 ],
 "metadata": {
  "kernelspec": {
   "display_name": "Python 3",
   "language": "python",
   "name": "python3"
  },
  "language_info": {
   "codemirror_mode": {
    "name": "ipython",
    "version": 3
   },
   "file_extension": ".py",
   "mimetype": "text/x-python",
   "name": "python",
   "nbconvert_exporter": "python",
   "pygments_lexer": "ipython3",
   "version": "3.7.4"
  }
 },
 "nbformat": 4,
 "nbformat_minor": 2
}
