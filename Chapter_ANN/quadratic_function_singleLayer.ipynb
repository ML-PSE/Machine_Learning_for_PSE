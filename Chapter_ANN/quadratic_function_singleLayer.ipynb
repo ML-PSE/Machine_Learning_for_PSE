{
 "cells": [
  {
   "cell_type": "markdown",
   "metadata": {},
   "source": [
    "# Chapter: Feedforward Neural Networks\n",
    "\n",
    "\n",
    "# Topic: FFNN modeling of quadratic function"
   ]
  },
  {
   "cell_type": "code",
   "execution_count": 1,
   "metadata": {},
   "outputs": [],
   "source": [
    "# import required packages\n",
    "import numpy as np, pandas as pd\n",
    "import matplotlib.pyplot as plt"
   ]
  },
  {
   "cell_type": "code",
   "execution_count": 2,
   "metadata": {},
   "outputs": [],
   "source": [
    "# random number seed for result reproducibility \n",
    "from numpy.random import seed\n",
    "seed(1)\n",
    "import tensorflow\n",
    "tensorflow.random.set_seed(2)"
   ]
  },
  {
   "cell_type": "code",
   "execution_count": 3,
   "metadata": {},
   "outputs": [
    {
     "data": {
      "text/plain": [
       "[<matplotlib.lines.Line2D at 0x24a346b6cc8>]"
      ]
     },
     "execution_count": 3,
     "metadata": {},
     "output_type": "execute_result"
    },
    {
     "data": {
      "image/png": "[encoded data removed]",
      "text/plain": [
       "<Figure size 432x288 with 1 Axes>"
      ]
     },
     "metadata": {
      "needs_background": "light"
     },
     "output_type": "display_data"
    }
   ],
   "source": [
    "# generate data\n",
    "x = np.linspace(-1,1,500)\n",
    "y = x*x \n",
    "plt.plot(x,y)"
   ]
  },
  {
   "cell_type": "code",
   "execution_count": 4,
   "metadata": {},
   "outputs": [],
   "source": [
    "##%%%%%%%%%%%%%%%%%%%%%%%%%%%%%%%%%%%%%%%%%%%%%%%%%%%%%%%%%%%%%%%%%%%%%%%%%%%%%\n",
    "##                          Define & Fit FFNN model\n",
    "## %%%%%%%%%%%%%%%%%%%%%%%%%%%%%%%%%%%%%%%%%%%%%%%%%%%%%%%%%%%%%%%%%%%%%%%%%%%%"
   ]
  },
  {
   "cell_type": "code",
   "execution_count": 5,
   "metadata": {},
   "outputs": [],
   "source": [
    "#%% import Keras libraries\n",
    "from tensorflow.keras import Sequential\n",
    "from tensorflow.keras.layers import Dense\n",
    "from tensorflow.keras.optimizers import Adam"
   ]
  },
  {
   "cell_type": "code",
   "execution_count": 6,
   "metadata": {},
   "outputs": [],
   "source": [
    "# define model\n",
    "n_nodes = 5\n",
    "\n",
    "model = Sequential()\n",
    "model.add(Dense(n_nodes, activation='relu', input_shape=(1,)))\n",
    "model.add(Dense(1))"
   ]
  },
  {
   "cell_type": "code",
   "execution_count": 7,
   "metadata": {},
   "outputs": [],
   "source": [
    "# compile model\n",
    "model.compile(loss='mse', optimizer=Adam(learning_rate=0.05))"
   ]
  },
  {
   "cell_type": "code",
   "execution_count": null,
   "metadata": {},
   "outputs": [
    {
     "name": "stdout",
     "output_type": "stream",
     "text": [
      "Epoch 1/400\n",
      "10/10 [==============================] - 0s 598us/step - loss: 0.0510\n",
      "Epoch 2/400\n",
      "10/10 [==============================] - 0s 598us/step - loss: 0.0162\n",
      "Epoch 3/400\n",
      "10/10 [==============================] - 0s 598us/step - loss: 0.0055\n",
      "Epoch 4/400\n",
      "10/10 [==============================] - 0s 797us/step - loss: 0.0031\n",
      "Epoch 5/400\n",
      "10/10 [==============================] - 0s 499us/step - loss: 0.0018\n",
      "Epoch 6/400\n",
      "10/10 [==============================] - 0s 598us/step - loss: 0.0011\n",
      "Epoch 7/400\n",
      "10/10 [==============================] - 0s 499us/step - loss: 8.3774e-04\n",
      "Epoch 8/400\n",
      "10/10 [==============================] - 0s 598us/step - loss: 7.2750e-04\n",
      "Epoch 9/400\n",
      "10/10 [==============================] - 0s 499us/step - loss: 6.7577e-04\n",
      "Epoch 10/400\n",
      "10/10 [==============================] - 0s 499us/step - loss: 6.9621e-04\n",
      "Epoch 11/400\n",
      "10/10 [==============================] - 0s 598us/step - loss: 7.2265e-04\n",
      "Epoch 12/400\n",
      "10/10 [==============================] - 0s 598us/step - loss: 6.7569e-04\n",
      "Epoch 13/400\n",
      "10/10 [==============================] - 0s 498us/step - loss: 6.9491e-04\n",
      "Epoch 14/400\n",
      "10/10 [==============================] - 0s 598us/step - loss: 6.7593e-04\n",
      "Epoch 15/400\n",
      "10/10 [==============================] - 0s 598us/step - loss: 6.4808e-04\n",
      "Epoch 16/400\n",
      "10/10 [==============================] - 0s 698us/step - loss: 6.3757e-04\n",
      "Epoch 17/400\n",
      "10/10 [==============================] - 0s 399us/step - loss: 6.3223e-04\n",
      "Epoch 18/400\n",
      "10/10 [==============================] - 0s 499us/step - loss: 6.3978e-04\n",
      "Epoch 19/400\n",
      "10/10 [==============================] - 0s 499us/step - loss: 6.5097e-04\n",
      "Epoch 20/400\n",
      "10/10 [==============================] - 0s 499us/step - loss: 6.4576e-04\n",
      "Epoch 21/400\n",
      "10/10 [==============================] - 0s 499us/step - loss: 6.2882e-04\n",
      "Epoch 22/400\n",
      "10/10 [==============================] - 0s 499us/step - loss: 6.3730e-04\n",
      "Epoch 23/400\n",
      "10/10 [==============================] - 0s 499us/step - loss: 6.4241e-04\n",
      "Epoch 24/400\n",
      "10/10 [==============================] - 0s 598us/step - loss: 7.0188e-04\n",
      "Epoch 25/400\n",
      "10/10 [==============================] - 0s 599us/step - loss: 9.7581e-04\n",
      "Epoch 26/400\n",
      "10/10 [==============================] - 0s 598us/step - loss: 6.7764e-04\n",
      "Epoch 27/400\n",
      "10/10 [==============================] - 0s 498us/step - loss: 6.5047e-04\n",
      "Epoch 28/400\n",
      "10/10 [==============================] - 0s 897us/step - loss: 6.9126e-04\n",
      "Epoch 29/400\n",
      "10/10 [==============================] - 0s 698us/step - loss: 7.3513e-04\n",
      "Epoch 30/400\n",
      "10/10 [==============================] - 0s 511us/step - loss: 7.2851e-04\n",
      "Epoch 31/400\n",
      "10/10 [==============================] - 0s 499us/step - loss: 6.7779e-04\n",
      "Epoch 32/400\n",
      "10/10 [==============================] - 0s 913us/step - loss: 6.6557e-04\n",
      "Epoch 33/400\n",
      "10/10 [==============================] - 0s 499us/step - loss: 7.0390e-04\n",
      "Epoch 34/400\n",
      "10/10 [==============================] - 0s 598us/step - loss: 6.5964e-04\n",
      "Epoch 35/400\n",
      "10/10 [==============================] - 0s 505us/step - loss: 6.9264e-04\n",
      "Epoch 36/400\n",
      "10/10 [==============================] - 0s 803us/step - loss: 7.3094e-04\n",
      "Epoch 37/400\n",
      "10/10 [==============================] - 0s 499us/step - loss: 7.0830e-04\n",
      "Epoch 38/400\n",
      "10/10 [==============================] - 0s 499us/step - loss: 7.7224e-04\n",
      "Epoch 39/400\n",
      "10/10 [==============================] - ETA: 0s - loss: 5.9592e-0 - 0s 399us/step - loss: 7.3098e-04\n",
      "Epoch 40/400\n",
      "10/10 [==============================] - 0s 599us/step - loss: 6.8702e-04\n",
      "Epoch 41/400\n",
      "10/10 [==============================] - 0s 399us/step - loss: 6.5073e-04\n",
      "Epoch 42/400\n",
      "10/10 [==============================] - 0s 798us/step - loss: 6.8619e-04\n",
      "Epoch 43/400\n",
      "10/10 [==============================] - 0s 499us/step - loss: 7.3435e-04\n",
      "Epoch 44/400\n",
      "10/10 [==============================] - 0s 598us/step - loss: 7.5726e-04\n",
      "Epoch 45/400\n",
      "10/10 [==============================] - 0s 499us/step - loss: 6.6820e-04\n",
      "Epoch 46/400\n",
      "10/10 [==============================] - 0s 499us/step - loss: 6.7204e-04\n",
      "Epoch 47/400\n",
      "10/10 [==============================] - 0s 598us/step - loss: 6.6211e-04\n",
      "Epoch 48/400\n",
      "10/10 [==============================] - 0s 499us/step - loss: 6.9435e-04\n",
      "Epoch 49/400\n",
      "10/10 [==============================] - 0s 499us/step - loss: 6.8247e-04\n",
      "Epoch 50/400\n",
      "10/10 [==============================] - 0s 499us/step - loss: 6.9573e-04\n",
      "Epoch 51/400\n",
      "10/10 [==============================] - 0s 598us/step - loss: 6.6712e-04\n",
      "Epoch 52/400\n",
      "10/10 [==============================] - 0s 499us/step - loss: 6.9295e-04\n",
      "Epoch 53/400\n",
      "10/10 [==============================] - 0s 499us/step - loss: 6.3296e-04\n",
      "Epoch 54/400\n",
      "10/10 [==============================] - 0s 399us/step - loss: 6.3424e-04\n",
      "Epoch 55/400\n",
      "10/10 [==============================] - 0s 499us/step - loss: 6.3593e-04\n",
      "Epoch 56/400\n",
      "10/10 [==============================] - 0s 595us/step - loss: 6.4823e-04\n",
      "Epoch 57/400\n",
      "10/10 [==============================] - 0s 596us/step - loss: 7.7132e-04\n",
      "Epoch 58/400\n",
      "10/10 [==============================] - 0s 498us/step - loss: 7.6057e-04\n",
      "Epoch 59/400\n",
      "10/10 [==============================] - 0s 499us/step - loss: 7.8410e-04\n",
      "Epoch 60/400\n",
      "10/10 [==============================] - 0s 498us/step - loss: 7.6099e-04\n",
      "Epoch 61/400\n",
      "10/10 [==============================] - 0s 599us/step - loss: 8.0997e-04\n",
      "Epoch 62/400\n",
      "10/10 [==============================] - 0s 399us/step - loss: 7.4540e-04\n",
      "Epoch 63/400\n",
      "10/10 [==============================] - 0s 499us/step - loss: 6.6804e-04\n",
      "Epoch 64/400\n",
      " 1/10 [==>...........................] - ETA: 0s - loss: 5.4766e-04"
     ]
    }
   ],
   "source": [
    "# fit model\n",
    "history = model.fit(x, y, epochs=400, batch_size=50)\n",
    "\n",
    "plt.figure()\n",
    "plt.xlabel('Epoch')\n",
    "plt.ylabel('MSE')\n",
    "plt.plot(history.history['loss'], label='train')\n",
    "plt.show()"
   ]
  },
  {
   "cell_type": "code",
   "execution_count": null,
   "metadata": {},
   "outputs": [],
   "source": [
    "# predict y_test\n",
    "y_pred = model.predict(x)\n",
    "\n",
    "plt.figure()\n",
    "plt.plot(x, y, '--b', label='y=x^2')\n",
    "plt.plot(x, y_pred, '--r', label='Approximation')\n",
    "plt.xlabel('x')\n",
    "plt.title('y_pred vs y')\n",
    "plt.legend()\n",
    "\n",
    "plt.figure()\n",
    "plt.plot(y_pred, 'r')\n",
    "plt.title('y_pred')"
   ]
  },
  {
   "cell_type": "code",
   "execution_count": null,
   "metadata": {},
   "outputs": [],
   "source": [
    "# metrics\n",
    "from sklearn.metrics import r2_score\n",
    "print('R2:', r2_score(y_test, y_test_pred))"
   ]
  },
  {
   "cell_type": "code",
   "execution_count": null,
   "metadata": {},
   "outputs": [],
   "source": [
    "#%% %%%%%%%%%%%%%%%%%%%%%%%%%%%%%%%%%%%%%%%%%%%%%%%%%%%%%%%%%%%%%%%%%%%%%%%%%%%\n",
    "##                          inner layer activations\n",
    "## %%%%%%%%%%%%%%%%%%%%%%%%%%%%%%%%%%%%%%%%%%%%%%%%%%%%%%%%%%%%%%%%%%%%%%%%%%%%"
   ]
  },
  {
   "cell_type": "code",
   "execution_count": null,
   "metadata": {},
   "outputs": [],
   "source": [
    "import tensorflow.keras.backend as K\n",
    "activations = []\n",
    "for layer in model.layers:\n",
    "    keras_function = K.function([model.input], [layer.output])\n",
    "    activations.append(keras_function(x))"
   ]
  },
  {
   "cell_type": "code",
   "execution_count": null,
   "metadata": {},
   "outputs": [],
   "source": [
    "# plot activations\n",
    "layer1_activations = activations[0][0]\n",
    "for node in range(n_nodes):\n",
    "    plt.figure()\n",
    "    plt.plot(x, layer1_activations[:,node])\n",
    "    plt.title('node ' + str(node+1) + ' activation')"
   ]
  }
 ],
 "metadata": {
  "kernelspec": {
   "display_name": "Python 3",
   "language": "python",
   "name": "python3"
  },
  "language_info": {
   "codemirror_mode": {
    "name": "ipython",
    "version": 3
   },
   "file_extension": ".py",
   "mimetype": "text/x-python",
   "name": "python",
   "nbconvert_exporter": "python",
   "pygments_lexer": "ipython3",
   "version": "3.7.4"
  }
 },
 "nbformat": 4,
 "nbformat_minor": 2
}
