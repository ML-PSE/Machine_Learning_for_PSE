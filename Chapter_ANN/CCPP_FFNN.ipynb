{
 "cells": [
  {
   "cell_type": "markdown",
   "metadata": {},
   "source": [
    "# Chapter: Feedforward Neural Networks\n",
    "\n",
    "\n",
    "# Topic: FFNN modeling of Combined Cycle Power Plant"
   ]
  },
  {
   "cell_type": "code",
   "execution_count": 8,
   "metadata": {},
   "outputs": [],
   "source": [
    "# import required packages\n",
    "import numpy as np, pandas as pd\n",
    "import matplotlib.pyplot as plt"
   ]
  },
  {
   "cell_type": "code",
   "execution_count": 9,
   "metadata": {},
   "outputs": [],
   "source": [
    "# read data\n",
    "data = pd.read_excel('Folds5x2_pp.xlsx', usecols = 'A:E').values\n",
    "X = data[:,0:4]\n",
    "y = data[:,4][:,np.newaxis]"
   ]
  },
  {
   "cell_type": "code",
   "execution_count": 10,
   "metadata": {},
   "outputs": [],
   "source": [
    "# separate train and test data\n",
    "from sklearn.model_selection import train_test_split\n",
    "X_train, X_test, y_train, y_test = train_test_split(X, y, test_size = 0.2, random_state = 100)"
   ]
  },
  {
   "cell_type": "code",
   "execution_count": 11,
   "metadata": {},
   "outputs": [],
   "source": [
    "# scale data\n",
    "from sklearn.preprocessing import StandardScaler\n",
    "\n",
    "X_scaler = StandardScaler()\n",
    "X_train_scaled = X_scaler.fit_transform(X_train)\n",
    "X_test_scaled = X_scaler.transform(X_test)\n",
    "\n",
    "y_scaler = StandardScaler()\n",
    "y_train_scaled = y_scaler.fit_transform(y_train)\n",
    "y_test_scaled = y_scaler.transform(y_test)"
   ]
  },
  {
   "cell_type": "code",
   "execution_count": 12,
   "metadata": {},
   "outputs": [],
   "source": [
    "##%%%%%%%%%%%%%%%%%%%%%%%%%%%%%%%%%%%%%%%%%%%%%%%%%%%%%%%%%%%%%%%%%%%%%%%%%%%%%\n",
    "##                          Define & Fit FFNN model\n",
    "## %%%%%%%%%%%%%%%%%%%%%%%%%%%%%%%%%%%%%%%%%%%%%%%%%%%%%%%%%%%%%%%%%%%%%%%%%%%%"
   ]
  },
  {
   "cell_type": "code",
   "execution_count": 13,
   "metadata": {},
   "outputs": [],
   "source": [
    "#%% import Keras libraries\n",
    "from tensorflow.keras import Sequential\n",
    "from tensorflow.keras.layers import Dense"
   ]
  },
  {
   "cell_type": "code",
   "execution_count": 14,
   "metadata": {},
   "outputs": [],
   "source": [
    "# define model\n",
    "model = Sequential()\n",
    "model.add(Dense(8, activation='relu', kernel_initializer='he_normal', input_shape=(4,))) # 8 neurons in 1st hidden layer; this hidden layer accepts data from a 4 dimensional input\n",
    "model.add(Dense(5, activation='relu', kernel_initializer='he_normal')) # 5 neurons in 2nd layer\n",
    "model.add(Dense(1)) # output layer"
   ]
  },
  {
   "cell_type": "code",
   "execution_count": 15,
   "metadata": {},
   "outputs": [],
   "source": [
    "# compile model\n",
    "model.compile(loss='mse', optimizer='Adam') # mean-squared error is to be minimized"
   ]
  },
  {
   "cell_type": "code",
   "execution_count": 17,
   "metadata": {},
   "outputs": [
    {
     "name": "stdout",
     "output_type": "stream",
     "text": [
      "Epoch 1/25\n",
      "  1/154 [..............................] - ETA: 0s - loss: 3.9408WARNING:tensorflow:Callbacks method `on_train_batch_end` is slow compared to the batch time (batch time: 0.0000s vs `on_train_batch_end` time: 0.0010s). Check your callbacks.\n",
      "154/154 [==============================] - 0s 576us/step - loss: 1.2850\n",
      "Epoch 2/25\n",
      "154/154 [==============================] - 0s 630us/step - loss: 0.2334\n",
      "Epoch 3/25\n",
      "154/154 [==============================] - 0s 596us/step - loss: 0.1613\n",
      "Epoch 4/25\n",
      "154/154 [==============================] - 0s 568us/step - loss: 0.1303\n",
      "Epoch 5/25\n",
      "154/154 [==============================] - 0s 725us/step - loss: 0.1116 0s - loss: 0.11\n",
      "Epoch 6/25\n",
      "154/154 [==============================] - 0s 622us/step - loss: 0.0990\n",
      "Epoch 7/25\n",
      "154/154 [==============================] - 0s 538us/step - loss: 0.0901\n",
      "Epoch 8/25\n",
      "154/154 [==============================] - 0s 499us/step - loss: 0.0825\n",
      "Epoch 9/25\n",
      "154/154 [==============================] - 0s 492us/step - loss: 0.0771\n",
      "Epoch 10/25\n",
      "154/154 [==============================] - 0s 466us/step - loss: 0.0736\n",
      "Epoch 11/25\n",
      "154/154 [==============================] - 0s 479us/step - loss: 0.0714\n",
      "Epoch 12/25\n",
      "154/154 [==============================] - 0s 479us/step - loss: 0.0701\n",
      "Epoch 13/25\n",
      "154/154 [==============================] - 0s 447us/step - loss: 0.0689\n",
      "Epoch 14/25\n",
      "154/154 [==============================] - 0s 512us/step - loss: 0.0680\n",
      "Epoch 15/25\n",
      "154/154 [==============================] - 0s 518us/step - loss: 0.0671\n",
      "Epoch 16/25\n",
      "154/154 [==============================] - 0s 460us/step - loss: 0.0663\n",
      "Epoch 17/25\n",
      "154/154 [==============================] - 0s 440us/step - loss: 0.0657\n",
      "Epoch 18/25\n",
      "154/154 [==============================] - 0s 421us/step - loss: 0.0651\n",
      "Epoch 19/25\n",
      "154/154 [==============================] - 0s 460us/step - loss: 0.0645\n",
      "Epoch 20/25\n",
      "154/154 [==============================] - 0s 473us/step - loss: 0.0641\n",
      "Epoch 21/25\n",
      "154/154 [==============================] - 0s 511us/step - loss: 0.0635\n",
      "Epoch 22/25\n",
      "154/154 [==============================] - 0s 493us/step - loss: 0.0630\n",
      "Epoch 23/25\n",
      "154/154 [==============================] - 0s 453us/step - loss: 0.0626\n",
      "Epoch 24/25\n",
      "154/154 [==============================] - 0s 528us/step - loss: 0.0622\n",
      "Epoch 25/25\n",
      "154/154 [==============================] - 0s 496us/step - loss: 0.0619\n"
     ]
    },
    {
     "data": {
      "text/plain": [
       "<tensorflow.python.keras.callbacks.History at 0x232ef9c4d08>"
      ]
     },
     "execution_count": 17,
     "metadata": {},
     "output_type": "execute_result"
    }
   ],
   "source": [
    "# fit model\n",
    "model.fit(X_train_scaled, y_train_scaled, epochs=25, batch_size=50)"
   ]
  },
  {
   "cell_type": "code",
   "execution_count": 18,
   "metadata": {},
   "outputs": [
    {
     "data": {
      "text/plain": [
       "Text(0, 0.5, 'y_test_pred')"
      ]
     },
     "execution_count": 18,
     "metadata": {},
     "output_type": "execute_result"
    },
    {
     "data": {
      "image/png": "[encoded data removed]",
      "text/plain": [
       "<Figure size 432x288 with 1 Axes>"
      ]
     },
     "metadata": {
      "needs_background": "light"
     },
     "output_type": "display_data"
    }
   ],
   "source": [
    "# predict y_test\n",
    "y_test_scaled_pred = model.predict(X_test_scaled)\n",
    "y_test_pred = y_scaler.inverse_transform(y_test_scaled_pred)\n",
    "\n",
    "plt.figure()\n",
    "plt.plot(y_test, y_test_pred, '*')\n",
    "plt.xlabel('y_test')\n",
    "plt.ylabel('y_test_pred')"
   ]
  },
  {
   "cell_type": "code",
   "execution_count": 19,
   "metadata": {},
   "outputs": [
    {
     "name": "stdout",
     "output_type": "stream",
     "text": [
      "R2: 0.9280331811289961\n"
     ]
    }
   ],
   "source": [
    "# metrics\n",
    "from sklearn.metrics import r2_score\n",
    "print('R2:', r2_score(y_test, y_test_pred))"
   ]
  },
  {
   "cell_type": "code",
   "execution_count": 20,
   "metadata": {},
   "outputs": [
    {
     "name": "stdout",
     "output_type": "stream",
     "text": [
      "Model: \"sequential\"\n",
      "_________________________________________________________________\n",
      "Layer (type)                 Output Shape              Param #   \n",
      "=================================================================\n",
      "dense (Dense)                (None, 8)                 40        \n",
      "_________________________________________________________________\n",
      "dense_1 (Dense)              (None, 5)                 45        \n",
      "_________________________________________________________________\n",
      "dense_2 (Dense)              (None, 1)                 6         \n",
      "=================================================================\n",
      "Total params: 91\n",
      "Trainable params: 91\n",
      "Non-trainable params: 0\n",
      "_________________________________________________________________\n"
     ]
    }
   ],
   "source": [
    "# model summary\n",
    "model.summary()"
   ]
  }
 ],
 "metadata": {
  "kernelspec": {
   "display_name": "Python 3",
   "language": "python",
   "name": "python3"
  },
  "language_info": {
   "codemirror_mode": {
    "name": "ipython",
    "version": 3
   },
   "file_extension": ".py",
   "mimetype": "text/x-python",
   "name": "python",
   "nbconvert_exporter": "python",
   "pygments_lexer": "ipython3",
   "version": "3.7.4"
  }
 },
 "nbformat": 4,
 "nbformat_minor": 2
}
