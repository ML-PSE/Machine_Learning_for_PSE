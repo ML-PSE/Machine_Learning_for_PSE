{
 "cells": [
  {
   "cell_type": "markdown",
   "metadata": {},
   "source": [
    "# Chapter: Feedforward Neural Networks\n",
    "\n",
    "\n",
    "# Topic: Combined Cycle Power Plant data exploration"
   ]
  },
  {
   "cell_type": "code",
   "execution_count": 2,
   "metadata": {},
   "outputs": [],
   "source": [
    "# import required packages\n",
    "import numpy as np, pandas as pd\n",
    "import matplotlib.pyplot as plt"
   ]
  },
  {
   "cell_type": "code",
   "execution_count": 3,
   "metadata": {},
   "outputs": [],
   "source": [
    "# read data\n",
    "data = pd.read_excel('Folds5x2_pp.xlsx', usecols = 'A:E').values\n",
    "X = data[:,0:4]\n",
    "y = data[:,4][:,np.newaxis]"
   ]
  },
  {
   "cell_type": "code",
   "execution_count": 4,
   "metadata": {},
   "outputs": [],
   "source": [
    "#%% plot input vs output for each input\n",
    "plt.figure()\n",
    "plt.plot(X[:,0], y, '*')\n",
    "plt.title('AT vs EP')\n",
    "\n",
    "plt.figure()\n",
    "plt.plot(X[:,1], y, '*')\n",
    "plt.title('V vs EP')\n",
    "\n",
    "plt.figure()\n",
    "plt.plot(X[:,2], y, '*')\n",
    "plt.title('AP vs EP')\n",
    "\n",
    "plt.figure()\n",
    "plt.plot(X[:,3], y, '*')\n",
    "plt.title('RH vs EP')"
   ]
  },
  {
   "cell_type": "code",
   "execution_count": null,
   "metadata": {},
   "outputs": [],
   "source": []
  }
 ],
 "metadata": {
  "kernelspec": {
   "display_name": "Python 3",
   "language": "python",
   "name": "python3"
  },
  "language_info": {
   "codemirror_mode": {
    "name": "ipython",
    "version": 3
   },
   "file_extension": ".py",
   "mimetype": "text/x-python",
   "name": "python",
   "nbconvert_exporter": "python",
   "pygments_lexer": "ipython3",
   "version": "3.7.4"
  }
 },
 "nbformat": 4,
 "nbformat_minor": 2
}
