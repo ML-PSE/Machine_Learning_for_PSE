{
 "cells": [
  {
   "cell_type": "markdown",
   "metadata": {},
   "source": [
    "# Chapter: Data Preprocessing\n",
    "\n",
    "# Topic: Embedded Method: Lasso"
   ]
  },
  {
   "cell_type": "code",
   "execution_count": 1,
   "metadata": {},
   "outputs": [],
   "source": [
    "# read data\n",
    "import numpy as np\n",
    "VSdata = np.loadtxt('VSdata.csv', delimiter=',')"
   ]
  },
  {
   "cell_type": "code",
   "execution_count": 2,
   "metadata": {},
   "outputs": [],
   "source": [
    "# separate X and y\n",
    "y = VSdata[:,0]\n",
    "X = VSdata[:,1:]"
   ]
  },
  {
   "cell_type": "code",
   "execution_count": 3,
   "metadata": {},
   "outputs": [],
   "source": [
    "# scale data\n",
    "from sklearn.preprocessing import StandardScaler\n",
    "xscaler = StandardScaler()\n",
    "X_scaled = xscaler.fit_transform(X)\n",
    "\n",
    "yscaler = StandardScaler()\n",
    "y_scaled = yscaler.fit_transform(y[:,None])"
   ]
  },
  {
   "cell_type": "code",
   "execution_count": 6,
   "metadata": {},
   "outputs": [],
   "source": [
    "# fit Lasso model \n",
    "from sklearn.linear_model import LassoCV\n",
    "Lasso_model = LassoCV(cv=5).fit(X_scaled, y_scaled.ravel())"
   ]
  },
  {
   "cell_type": "code",
   "execution_count": 7,
   "metadata": {},
   "outputs": [
    {
     "name": "stdout",
     "output_type": "stream",
     "text": [
      "Relevant inputs:  [21 22 20 23 24 19 25 18 33 14]\n"
     ]
    }
   ],
   "source": [
    "# cfind the relevant inputs using model coefficients\n",
    "top_k_inputs = np.argsort(abs(Lasso_model.coef_))[::-1][:10] + 1\n",
    "print('Relevant inputs: ', top_k_inputs)"
   ]
  }
 ],
 "metadata": {
  "kernelspec": {
   "display_name": "Python 3 (ipykernel)",
   "language": "python",
   "name": "python3"
  },
  "language_info": {
   "codemirror_mode": {
    "name": "ipython",
    "version": 3
   },
   "file_extension": ".py",
   "mimetype": "text/x-python",
   "name": "python",
   "nbconvert_exporter": "python",
   "pygments_lexer": "ipython3",
   "version": "3.9.7"
  }
 },
 "nbformat": 4,
 "nbformat_minor": 2
}
