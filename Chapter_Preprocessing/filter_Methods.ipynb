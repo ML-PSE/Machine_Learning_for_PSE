{
 "cells": [
  {
   "cell_type": "markdown",
   "metadata": {},
   "source": [
    "# Chapter: Data Preprocessing\n",
    "\n",
    "# Topic: Filter Methods for Variable Selection"
   ]
  },
  {
   "cell_type": "code",
   "execution_count": 1,
   "metadata": {},
   "outputs": [],
   "source": [
    "# read data\n",
    "import numpy as np\n",
    "VSdata = np.loadtxt('VSdata.csv', delimiter=',')"
   ]
  },
  {
   "cell_type": "code",
   "execution_count": 2,
   "metadata": {},
   "outputs": [],
   "source": [
    "# separate X and y\n",
    "y = VSdata[:,0]\n",
    "X = VSdata[:,1:]"
   ]
  },
  {
   "cell_type": "code",
   "execution_count": 3,
   "metadata": {},
   "outputs": [],
   "source": [
    "#%%%%%%%%%%%%%%%%%%%%%%%%%%%%%%%%%%%%%%%%%%%%%%%%%%%%%%%%%%%%%%%%%%%%%%%%%%%%%\n",
    "##           Linear correlation-based variable selection\n",
    "## %%%%%%%%%%%%%%%%%%%%%%%%%%%%%%%%%%%%%%%%%%%%%%%%%%%%%%%%%%%%%%%%%%%%%%%%%%%%"
   ]
  },
  {
   "cell_type": "code",
   "execution_count": 7,
   "metadata": {},
   "outputs": [
    {
     "name": "stdout",
     "output_type": "stream",
     "text": [
      "[22 21 24 20 30 29 32 31 28 27]\n"
     ]
    }
   ],
   "source": [
    "# compute linear correlation based scores \n",
    "from sklearn.feature_selection import SelectKBest\n",
    "from sklearn.feature_selection import f_regression\n",
    "\n",
    "VSmodel_Correlation = SelectKBest(f_regression, k=10).fit(X, y)\n",
    "input_scores = VSmodel_Correlation.scores_\n",
    "\n",
    "# find the top ranked inputs\n",
    "top_k_inputs_Correlation = np.argsort(input_scores)[::-1][:10] + 1#  [::-1] reverses the array returned by argsort() and [:n] gives that last n elements\n",
    "print(top_k_inputs_Correlation)\n",
    "\n",
    "# reduce X to only top relevant inputs\n",
    "X_relevant = VSmodel_Correlation.transform(X)"
   ]
  },
  {
   "cell_type": "code",
   "execution_count": 5,
   "metadata": {},
   "outputs": [],
   "source": [
    "# %%%%%%%%%%%%%%%%%%%%%%%%%%%%%%%%%%%%%%%%%%%%%%%%%%%%%%%%%%%%%%%%%%%%%%%%%%%%%\n",
    "##           MI-based variable selection\n",
    "## %%%%%%%%%%%%%%%%%%%%%%%%%%%%%%%%%%%%%%%%%%%%%%%%%%%%%%%%%%%%%%%%%%%%%%%%%%%%"
   ]
  },
  {
   "cell_type": "code",
   "execution_count": 8,
   "metadata": {},
   "outputs": [
    {
     "name": "stdout",
     "output_type": "stream",
     "text": [
      "[21  8  0  4  5 37  1 30 13 16]\n"
     ]
    }
   ],
   "source": [
    "# compute linear correlation based scores \n",
    "from sklearn.feature_selection import mutual_info_regression\n",
    "\n",
    "VSmodel_MI = SelectKBest(mutual_info_regression, k=10).fit(X, y)\n",
    "input_scores = VSmodel_MI.scores_\n",
    "\n",
    "# find the top ranked inputs\n",
    "top_k_inputs_MI = np.argsort(input_scores)[::-1][:10] #  [::-1] reverses the array returned by argsort() and [:n] gives that last n elements\n",
    "print(top_k_inputs_MI)\n",
    "\n",
    "# reduce X to only top relevant inputs\n",
    "X_relevant = VSmodel_MI.transform(X)"
   ]
  },
  {
   "cell_type": "code",
   "execution_count": null,
   "metadata": {},
   "outputs": [],
   "source": []
  }
 ],
 "metadata": {
  "kernelspec": {
   "display_name": "Python 3 (ipykernel)",
   "language": "python",
   "name": "python3"
  },
  "language_info": {
   "codemirror_mode": {
    "name": "ipython",
    "version": 3
   },
   "file_extension": ".py",
   "mimetype": "text/x-python",
   "name": "python",
   "nbconvert_exporter": "python",
   "pygments_lexer": "ipython3",
   "version": "3.9.7"
  }
 },
 "nbformat": 4,
 "nbformat_minor": 2
}
