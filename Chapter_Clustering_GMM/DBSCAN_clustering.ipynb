{
 "cells": [
  {
   "cell_type": "markdown",
   "metadata": {},
   "source": [
    "# Chapter: Finding Groups in Process Data: Clustering & Mixture Modeling\n",
    "\n",
    "# Topic: DBSCAN algorithm "
   ]
  },
  {
   "cell_type": "code",
   "execution_count": 34,
   "metadata": {},
   "outputs": [],
   "source": [
    "##%%%%%%%%%%%%%%%%%%%%%%%%%%%%%%%%%%%%%%%%%%%%%%%%%%%%%%%%%%%%%%%%%%%%%%%%%%%%%\n",
    "##                          DBSCAN clustering of Etch data\n",
    "## %%%%%%%%%%%%%%%%%%%%%%%%%%%%%%%%%%%%%%%%%%%%%%%%%%%%%%%%%%%%%%%%%%%%%%%%%%%%"
   ]
  },
  {
   "cell_type": "code",
   "execution_count": 35,
   "metadata": {},
   "outputs": [],
   "source": [
    "# import required packages\n",
    "import numpy as np\n",
    "import matplotlib.pyplot as plt\n",
    "from sklearn.cluster import DBSCAN"
   ]
  },
  {
   "cell_type": "code",
   "execution_count": 36,
   "metadata": {},
   "outputs": [],
   "source": [
    "# fetch data\n",
    "import scipy.io\n",
    "\n",
    "matlab_data = scipy.io.loadmat('MACHINE_Data.mat', struct_as_record = False)\n",
    "Etch_data = matlab_data['LAMDATA']\n",
    "calibration_dataAll = Etch_data[0,0].calibration # calibration_dataAll[i,0] corresponds to a 2D data from ith batch where columns correspond to different variables \n",
    "\n",
    "variable_names = Etch_data[0,0].variables"
   ]
  },
  {
   "cell_type": "code",
   "execution_count": 37,
   "metadata": {},
   "outputs": [],
   "source": [
    "##%%%%%%%%%%%%%%%%%%%%%%%%%%%%%%%%%%%%%%%%%%%%%%%%%%%%%%%%%%%%%%%%%%%%%%%%%%%%%\n",
    "##                          perform Multiway PCA\n",
    "## %%%%%%%%%%%%%%%%%%%%%%%%%%%%%%%%%%%%%%%%%%%%%%%%%%%%%%%%%%%%%%%%%%%%%%%%%%%%"
   ]
  },
  {
   "cell_type": "code",
   "execution_count": 38,
   "metadata": {},
   "outputs": [],
   "source": [
    "# generate unfolded data matrix\n",
    "n_vars = variable_names.size - 2 # first 2 columns are not process variables\n",
    "n_samples = 85 # following the work of He et al.\n",
    "\n",
    "unfolded_dataMatrix = np.empty((1,n_vars*n_samples))\n",
    "for expt in range(calibration_dataAll.size):\n",
    "    calibration_expt = calibration_dataAll[expt,0][5:90,2:] # removing first 5 measurements as done in He et al.\n",
    "    \n",
    "    if calibration_expt.shape[0] < 85:\n",
    "        continue\n",
    "    \n",
    "    unfolded_row = np.ravel(calibration_expt, order='F')[np.newaxis,:]\n",
    "    unfolded_dataMatrix = np.vstack((unfolded_dataMatrix, unfolded_row))\n",
    "\n",
    "unfolded_dataMatrix = unfolded_dataMatrix[1:,:]"
   ]
  },
  {
   "cell_type": "code",
   "execution_count": 39,
   "metadata": {},
   "outputs": [],
   "source": [
    "# scale data\n",
    "from sklearn.preprocessing import StandardScaler\n",
    "\n",
    "scaler = StandardScaler()\n",
    "data_train_normal = scaler.fit_transform(unfolded_dataMatrix)"
   ]
  },
  {
   "cell_type": "code",
   "execution_count": 40,
   "metadata": {},
   "outputs": [],
   "source": [
    "# PCA\n",
    "from sklearn.decomposition import PCA\n",
    "\n",
    "pca = PCA(n_components = 3) # following the work of He et al.\n",
    "score_train = pca.fit_transform(data_train_normal)"
   ]
  },
  {
   "cell_type": "code",
   "execution_count": 41,
   "metadata": {},
   "outputs": [
    {
     "data": {
      "image/png": "[encoded data removed]",
      "text/plain": [
       "<Figure size 432x288 with 1 Axes>"
      ]
     },
     "metadata": {
      "needs_background": "light"
     },
     "output_type": "display_data"
    }
   ],
   "source": [
    "# visualize in 2D\n",
    "plt.figure()\n",
    "plt.scatter(score_train[:,0],score_train[:,1])\n",
    "plt.xlabel('PC1 scores')\n",
    "plt.ylabel('PC2 scores')\n",
    "plt.show()"
   ]
  },
  {
   "cell_type": "code",
   "execution_count": 42,
   "metadata": {},
   "outputs": [],
   "source": [
    "##%%%%%%%%%%%%%%%%%%%%%%%%%%%%%%%%%%%%%%%%%%%%%%%%%%%%%%%%%%%%%%%%%%%%%%%%%%%%%\n",
    "##                          DBSCAN on PCA scores\n",
    "## %%%%%%%%%%%%%%%%%%%%%%%%%%%%%%%%%%%%%%%%%%%%%%%%%%%%%%%%%%%%%%%%%%%%%%%%%%%%"
   ]
  },
  {
   "cell_type": "code",
   "execution_count": 44,
   "metadata": {},
   "outputs": [
    {
     "data": {
      "image/png": "[encoded data removed]",
      "text/plain": [
       "<Figure size 432x288 with 1 Axes>"
      ]
     },
     "metadata": {
      "needs_background": "light"
     },
     "output_type": "display_data"
    },
    {
     "name": "stdout",
     "output_type": "stream",
     "text": [
      "Cluster labels:  [0 1 2]\n"
     ]
    }
   ],
   "source": [
    "# fit DBSCAN model\n",
    "from sklearn.cluster import DBSCAN\n",
    "\n",
    "db = DBSCAN(eps = 5, min_samples = 3).fit(score_train)\n",
    "cluster_label = db.labels_\n",
    "\n",
    "plt.figure()\n",
    "plt.scatter(score_train[:, 0], score_train[:, 1], c = cluster_label, s=20, cmap='viridis')\n",
    "plt.xlabel('PC1 scores')\n",
    "plt.ylabel('PC2 scores')\n",
    "plt.show()\n",
    "\n",
    "print('Cluster labels: ', np.unique(cluster_label))"
   ]
  }
 ],
 "metadata": {
  "kernelspec": {
   "display_name": "Python 3",
   "language": "python",
   "name": "python3"
  },
  "language_info": {
   "codemirror_mode": {
    "name": "ipython",
    "version": 3
   },
   "file_extension": ".py",
   "mimetype": "text/x-python",
   "name": "python",
   "nbconvert_exporter": "python",
   "pygments_lexer": "ipython3",
   "version": "3.7.4"
  }
 },
 "nbformat": 4,
 "nbformat_minor": 2
}
