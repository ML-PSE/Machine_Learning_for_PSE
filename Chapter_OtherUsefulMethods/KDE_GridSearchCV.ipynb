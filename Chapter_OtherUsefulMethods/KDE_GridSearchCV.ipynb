{
 "cells": [
  {
   "cell_type": "markdown",
   "metadata": {},
   "source": [
    "# Chapter: Other Useful Methods¶¶\n",
    "\n",
    "# Topic: Optimizing KDE bandwidth via gridSearch "
   ]
  },
  {
   "cell_type": "code",
   "execution_count": 5,
   "metadata": {},
   "outputs": [],
   "source": [
    "##%%%%%%%%%%%%%%%%%%%%%%%%%%%%%%%%%%%%%%%%%%%%%%%%%%%%%%%%%%%%%%%%%%%%%%%%%%%%%\n",
    "##        KDE curve for ICA monitoring metrics for TEP dataset\n",
    "## %%%%%%%%%%%%%%%%%%%%%%%%%%%%%%%%%%%%%%%%%%%%%%%%%%%%%%%%%%%%%%%%%%%%%%%%%%%%"
   ]
  },
  {
   "cell_type": "code",
   "execution_count": 6,
   "metadata": {},
   "outputs": [],
   "source": [
    "# import required packages\n",
    "import numpy as np\n",
    "from sklearn.preprocessing import StandardScaler\n",
    "from sklearn.decomposition import FastICA\n",
    "import matplotlib.pyplot as plt"
   ]
  },
  {
   "cell_type": "code",
   "execution_count": 7,
   "metadata": {},
   "outputs": [],
   "source": [
    "# fetch TE data and select variables as done in Lee et al.\n",
    "TEdata_noFault_train = np.loadtxt('d00.dat').T # data arrnagement in d00.dat is different than that in other files\n",
    "\n",
    "xmeas = TEdata_noFault_train[:,0:22]\n",
    "xmv = TEdata_noFault_train[:,41:52]\n",
    "data_noFault_train = np.hstack((xmeas, xmv))"
   ]
  },
  {
   "cell_type": "code",
   "execution_count": 8,
   "metadata": {},
   "outputs": [],
   "source": [
    "# scale data\n",
    "scaler = StandardScaler()\n",
    "data_train_normal = scaler.fit_transform(data_noFault_train)\n",
    "           \n",
    "# fit ICA model\n",
    "ica = FastICA(max_iter=1000, tol=0.005, random_state=1).fit(data_train_normal)"
   ]
  },
  {
   "cell_type": "code",
   "execution_count": 9,
   "metadata": {},
   "outputs": [],
   "source": [
    "# decide # of ICs to retain via PCA variance method\n",
    "from sklearn.decomposition import PCA\n",
    "pca = PCA().fit(data_train_normal)\n",
    "\n",
    "explained_variance = 100*pca.explained_variance_ratio_\n",
    "cum_explained_variance = np.cumsum(explained_variance) \n",
    "\n",
    "n_comp = np.argmax(cum_explained_variance >= 90) + 1"
   ]
  },
  {
   "cell_type": "code",
   "execution_count": 10,
   "metadata": {},
   "outputs": [],
   "source": [
    "#%%%%%%%%%%%%%%%%%%%%%%%%%%%%%%%%%%%%%%%%%%%%%%%%%%%%%%%%%%%%%%%%%%%%%%%%%%%%%\n",
    "##                     Monitoring statistics function\n",
    "## %%%%%%%%%%%%%%%%%%%%%%%%%%%%%%%%%%%%%%%%%%%%%%%%%%%%%%%%%%%%%%%%%%%%%%%%%%%%"
   ]
  },
  {
   "cell_type": "code",
   "execution_count": 11,
   "metadata": {},
   "outputs": [],
   "source": [
    "def compute_ICA_monitoring_metrics(ica_model, number_comp, data):\n",
    "    \"\"\" calculate monitoring statistics for given data \n",
    "    \n",
    "    parameters\n",
    "    -----------\n",
    "    data: numpy array of shape = [n_samples, n_features]\n",
    "          Training or test data\n",
    "    \n",
    "    Returns\n",
    "    ----------\n",
    "    monitoring_stats: numpy array of shape = [n_samples, 3]\n",
    "        \n",
    "    \"\"\"\n",
    "    \n",
    "    # data parameters\n",
    "    n = data.shape[0]\n",
    "    \n",
    "    # model parameters\n",
    "    W = ica.components_\n",
    "    L2_norm = np.linalg.norm(W, 2, axis=1)\n",
    "    sort_order = np.flip(np.argsort(L2_norm))    \n",
    "    W_sorted = W[sort_order,:]\n",
    "    \n",
    "    # I2\n",
    "    Wd = W_sorted[0:number_comp,:]\n",
    "    Sd = np.dot(Wd, data.T)\n",
    "    I2 = np.array([np.dot(Sd[:,i], Sd[:,i]) for i in range(n)]) \n",
    "        \n",
    "    # Ie2\n",
    "    We = W_sorted[n_comp:,:]\n",
    "    Se = np.dot(We, data.T)\n",
    "    Ie2 = np.array([np.dot(Se[:,i], Se[:,i]) for i in range(n)]) \n",
    "        \n",
    "    # SPE\n",
    "    Q = ica.whitening_\n",
    "    Q_inv = np.linalg.inv(Q)\n",
    "    A = ica.mixing_\n",
    "    B = np.dot(Q, A)\n",
    "    B_sorted = B[:,sort_order]\n",
    "    Bd = B_sorted[:,0:n_comp]\n",
    "    \n",
    "    data_reconstruct = np.dot(np.dot(np.dot(Q_inv, Bd), Wd), data.T)\n",
    "    e = data.T - data_reconstruct\n",
    "    SPE = np.array([np.dot(e[:,i], e[:,i]) for i in range(n)])\n",
    "    \n",
    "    monitoring_stats = np.column_stack((I2, Ie2, SPE))\n",
    "    return monitoring_stats"
   ]
  },
  {
   "cell_type": "code",
   "execution_count": 12,
   "metadata": {},
   "outputs": [],
   "source": [
    "def draw_monitoring_chart(values, CL, yLabel):\n",
    "    plt.figure()\n",
    "    plt.plot(values)\n",
    "    plt.axhline(CL, color = \"red\", linestyle = \"--\")\n",
    "    plt.xlabel('Sample #')\n",
    "    plt.ylabel(yLabel)\n",
    "    plt.show()"
   ]
  },
  {
   "cell_type": "code",
   "execution_count": 13,
   "metadata": {},
   "outputs": [],
   "source": [
    "def draw_ICA_monitoring_charts(ICA_statistics, CLs, trainORtest):\n",
    "    \"\"\" draw monitoring charts for given data \n",
    "    \n",
    "    parameters\n",
    "    -----------\n",
    "    ICA_statistics: numpy array of shape = [n_samples, 3]\n",
    "    CLs: List of control limits\n",
    "    trainORtest: 'training' or 'test'\n",
    "\n",
    "    \"\"\"\n",
    "    \n",
    "    # I2 chart, Ie2 chart, SPE chart\n",
    "    draw_monitoring_chart(ICA_statistics[:,0], CLs[0], 'I2 for ' + trainORtest + ' data')\n",
    "    draw_monitoring_chart(ICA_statistics[:,1], CLs[1], 'Ie2 for ' + trainORtest + ' data')\n",
    "    draw_monitoring_chart(ICA_statistics[:,2], CLs[2], 'SPE for ' + trainORtest + ' data')"
   ]
  },
  {
   "cell_type": "code",
   "execution_count": 14,
   "metadata": {},
   "outputs": [],
   "source": [
    "# compute metrics\n",
    "ICA_statistics_train = compute_ICA_monitoring_metrics(ica, n_comp, data_train_normal)"
   ]
  },
  {
   "cell_type": "code",
   "execution_count": 15,
   "metadata": {},
   "outputs": [
    {
     "name": "stdout",
     "output_type": "stream",
     "text": [
      "Empirical h 0.0461: optimal h 0.0047\n"
     ]
    },
    {
     "name": "stderr",
     "output_type": "stream",
     "text": [
      "C:\\ProgramData\\Anaconda3\\lib\\site-packages\\sklearn\\model_selection\\_search.py:814: DeprecationWarning: The default of the `iid` parameter will change from True to False in version 0.22 and will be removed in 0.24. This will change numeric results when test-set sizes are unequal.\n",
      "  DeprecationWarning)\n"
     ]
    }
   ],
   "source": [
    "# finding optimal KDE bandwidth by GridSearchCV\n",
    "from sklearn.neighbors import KernelDensity\n",
    "from sklearn.model_selection import GridSearchCV\n",
    "\n",
    "N = len(ICA_statistics_train[:,1])\n",
    "empirical_h = 1.06*np.std(ICA_statistics_train[:,1])*N**(1/5)\n",
    "h_grid = np.linspace(0,5,50)*empirical_h # 50 candidate values\n",
    "grid = GridSearchCV(KernelDensity(), {'bandwidth': h_grid}, cv=N) # leave-one-out CV\n",
    "grid.fit(ICA_statistics_train[:,1][:,None])\n",
    "\n",
    "print('Empirical h {:.4f}: optimal h {:.4f}'.format(empirical_h, grid.best_params_['bandwidth']))"
   ]
  },
  {
   "cell_type": "code",
   "execution_count": 16,
   "metadata": {},
   "outputs": [
    {
     "data": {
      "image/png": "[encoded data removed]",
      "text/plain": [
       "<Figure size 432x288 with 1 Axes>"
      ]
     },
     "metadata": {
      "needs_background": "light"
     },
     "output_type": "display_data"
    }
   ],
   "source": [
    "# optimal KDE imposed over histogram\n",
    "kde = grid.best_estimator_ \n",
    "metric_grid = np.linspace(0,0.1,100)[:,None]\n",
    "density = np.exp(kde.score_samples(metric_grid))\n",
    "\n",
    "plt.figure()\n",
    "plt.hist(ICA_statistics_train[:,1], bins=50, color='grey', histtype='bar', alpha=0.8, density=True, rwidth=0.7, label='Histogram density')\n",
    "plt.plot(metric_grid, density, alpha=1, label='KDE density')\n",
    "plt.ylabel('probability density')\n",
    "plt.xlabel('Ie2 values')\n",
    "plt.legend()\n",
    "plt.show()"
   ]
  }
 ],
 "metadata": {
  "kernelspec": {
   "display_name": "Python 3",
   "language": "python",
   "name": "python3"
  },
  "language_info": {
   "codemirror_mode": {
    "name": "ipython",
    "version": 3
   },
   "file_extension": ".py",
   "mimetype": "text/x-python",
   "name": "python",
   "nbconvert_exporter": "python",
   "pygments_lexer": "ipython3",
   "version": "3.7.4"
  }
 },
 "nbformat": 4,
 "nbformat_minor": 2
}
