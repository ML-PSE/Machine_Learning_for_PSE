{
 "cells": [
  {
   "cell_type": "markdown",
   "metadata": {},
   "source": [
    "# Chapter: Other Useful Methods\n",
    "\n",
    "# Topic:  Process Fault Detection via kNN "
   ]
  },
  {
   "cell_type": "code",
   "execution_count": 1,
   "metadata": {},
   "outputs": [],
   "source": [
    "##%%%%%%%%%%%%%%%%%%%%%%%%%%%%%%%%%%%%%%%%%%%%%%%%%%%%%%%%%%%%%%%%%%%%%%%%%%%%%\n",
    "##         Process Fault Detection via kNN\n",
    "## %%%%%%%%%%%%%%%%%%%%%%%%%%%%%%%%%%%%%%%%%%%%%%%%%%%%%%%%%%%%%%%%%%%%%%%%%%%%"
   ]
  },
  {
   "cell_type": "code",
   "execution_count": 2,
   "metadata": {},
   "outputs": [],
   "source": [
    "# import required packages\n",
    "import numpy as np\n",
    "import matplotlib.pyplot as plt\n",
    "from sklearn.preprocessing import StandardScaler\n",
    "from sklearn.decomposition import PCA\n",
    "from sklearn.pipeline import Pipeline"
   ]
  },
  {
   "cell_type": "code",
   "execution_count": 3,
   "metadata": {},
   "outputs": [],
   "source": [
    "# fetch data\n",
    "import scipy.io\n",
    "\n",
    "matlab_data = scipy.io.loadmat('MACHINE_Data.mat', struct_as_record = False)\n",
    "Etch_data = matlab_data['LAMDATA']\n",
    "calibration_dataAll = Etch_data[0,0].calibration # calibration_dataAll[i,0] corresponds to a 2D data from ith batch where columns correspond to different variables \n",
    "\n",
    "variable_names = Etch_data[0,0].variables"
   ]
  },
  {
   "cell_type": "code",
   "execution_count": 4,
   "metadata": {},
   "outputs": [],
   "source": [
    "# generate unfolded data matrix\n",
    "n_vars = variable_names.size - 2 # first 2 columns are not process variables\n",
    "n_samples = 85 # following the work of He et al.\n",
    "\n",
    "unfolded_dataMatrix = np.empty((1,n_vars*n_samples))\n",
    "for expt in range(calibration_dataAll.size):\n",
    "    calibration_expt = calibration_dataAll[expt,0][5:90,2:] # removing first 5 measurements as done in He et al.\n",
    "    \n",
    "    if calibration_expt.shape[0] < 85:\n",
    "        continue\n",
    "    \n",
    "    unfolded_row = np.ravel(calibration_expt, order='F')[np.newaxis,:]\n",
    "    unfolded_dataMatrix = np.vstack((unfolded_dataMatrix, unfolded_row))\n",
    "\n",
    "unfolded_dataMatrix = unfolded_dataMatrix[1:,:]"
   ]
  },
  {
   "cell_type": "code",
   "execution_count": 5,
   "metadata": {},
   "outputs": [],
   "source": [
    "# scale data & fit PCA model via pipeline\n",
    "pipe = Pipeline([('scaler', StandardScaler()), ('pca', PCA(n_components = 3))])\n",
    "score_train = pipe.fit_transform(unfolded_dataMatrix)"
   ]
  },
  {
   "cell_type": "code",
   "execution_count": 6,
   "metadata": {},
   "outputs": [
    {
     "data": {
      "image/png": "[encoded data removed]",
      "text/plain": [
       "<Figure size 432x288 with 1 Axes>"
      ]
     },
     "metadata": {
      "needs_background": "light"
     },
     "output_type": "display_data"
    }
   ],
   "source": [
    "# visualize in 2D\n",
    "plt.figure()\n",
    "plt.scatter(score_train[:,0],score_train[:,1])\n",
    "plt.xlabel('PC1 scores')\n",
    "plt.ylabel('PC2 scores')\n",
    "plt.show()"
   ]
  },
  {
   "cell_type": "code",
   "execution_count": 7,
   "metadata": {},
   "outputs": [],
   "source": [
    "#%% %%%%%%%%%%%%%%%%%%%%%%%%%%%%%%%%%%%%%%%%%%%%%%%%%%%%%%%%%%%%%%%%%%%%%%%%%%%\n",
    "##        k-nearest neighbors of each training sample in score space\n",
    "## %%%%%%%%%%%%%%%%%%%%%%%%%%%%%%%%%%%%%%%%%%%%%%%%%%%%%%%%%%%%%%%%%%%%%%%%%%%%\n",
    "from sklearn.neighbors import NearestNeighbors\n",
    "\n",
    "nbrs = NearestNeighbors(n_neighbors=6).fit(score_train) # a data-point is its own neighbor in training dataset\n",
    "d2_nbrs, indices = nbrs.kneighbors(score_train)\n",
    "d2_sqrd_nbrs = d2_nbrs**2\n",
    "D2 = np.sum(d2_sqrd_nbrs, axis = 1)\n",
    "D2_log = np.log(D2) "
   ]
  },
  {
   "cell_type": "code",
   "execution_count": 8,
   "metadata": {},
   "outputs": [
    {
     "name": "stderr",
     "output_type": "stream",
     "text": [
      "C:\\ProgramData\\Anaconda3\\lib\\site-packages\\sklearn\\model_selection\\_search.py:814: DeprecationWarning: The default of the `iid` parameter will change from True to False in version 0.22 and will be removed in 0.24. This will change numeric results when test-set sizes are unequal.\n",
      "  DeprecationWarning)\n"
     ]
    },
    {
     "data": {
      "image/png": "[encoded data removed]",
      "text/plain": [
       "<Figure size 432x288 with 1 Axes>"
      ]
     },
     "metadata": {
      "needs_background": "light"
     },
     "output_type": "display_data"
    }
   ],
   "source": [
    "#%%%%%%%%%%%%%%%%%%%%%%%%%%%%%%%%%%%%%%%%%%%%%%%%%%%%%%%%%%%%%%%%%%%%%%%%%%%%%\n",
    "##            Compute D2 control limit via KDE\n",
    "## %%%%%%%%%%%%%%%%%%%%%%%%%%%%%%%%%%%%%%%%%%%%%%%%%%%%%%%%%%%%%%%%%%%%%%%%%%%%\n",
    "from sklearn.neighbors import KernelDensity\n",
    "from sklearn.model_selection import GridSearchCV\n",
    "\n",
    "def get_CL_via_KDE(metric_values, percentile, metricLabel):\n",
    "    \"\"\" calculate control limit for a monitoring statistic via KDE \n",
    "    \n",
    "    parameters\n",
    "    -----------\n",
    "    metric_values: numpy array of shape = [n_samples,]\n",
    "          \n",
    "    \"\"\"\n",
    "    \n",
    "    # find optimal KDE bandwidth via CV\n",
    "    N = len(metric_values)\n",
    "    empirical_h = 1.06*np.std(metric_values)*N**(1/5)\n",
    "    h_grid = np.linspace(0,5,50)*empirical_h \n",
    "    \n",
    "    grid = GridSearchCV(KernelDensity(),{'bandwidth': h_grid}, cv=N) # leave-one-out CV\n",
    "    grid.fit(metric_values[:,None]) # 2D array is expected\n",
    "    optimal_h = grid.best_params_['bandwidth']\n",
    "    \n",
    "    # compute pdf values via KDE \n",
    "    kde = grid.best_estimator_  \n",
    "    metric_grid = np.linspace(0,1.2*np.max(metric_values),100)[:,None]\n",
    "    metric_pdf_values = np.exp(kde.score_samples(metric_grid))\n",
    "    \n",
    "    # Find control limit via numerical integration\n",
    "    metric_cdf_values = [np.trapz(metric_pdf_values[:i, None], metric_grid[:i,:], axis=0)[0] for i in range(100)]\n",
    "    metric_CL = metric_grid[np.argmax(np.array(metric_cdf_values) > percentile/100),0]\n",
    "    \n",
    "    # KDE plot with histogram\n",
    "    plt.figure()\n",
    "    plt.hist(metric_values, bins=10, color='grey', histtype='bar', alpha=0.8, density=True, rwidth=0.7, label='Histogram density')\n",
    "    plt.plot(metric_grid, metric_pdf_values, alpha=1, label='KDE density')\n",
    "    plt.title('h: {:.4f}; CL: {:.3f}'.format(optimal_h, metric_CL))\n",
    "    plt.ylabel('density')\n",
    "    plt.xlabel(metricLabel)\n",
    "    plt.legend()\n",
    "    \n",
    "    return metric_CL\n",
    "\n",
    "D2_log_CL = get_CL_via_KDE(D2_log, 95, 'D2_log for training data')"
   ]
  },
  {
   "cell_type": "code",
   "execution_count": 9,
   "metadata": {},
   "outputs": [
    {
     "data": {
      "image/png": "[encoded data removed]",
      "text/plain": [
       "<Figure size 432x288 with 1 Axes>"
      ]
     },
     "metadata": {
      "needs_background": "light"
     },
     "output_type": "display_data"
    }
   ],
   "source": [
    "# monitoring chart for training data\n",
    "plt.figure()\n",
    "plt.plot(D2_log, '*')\n",
    "plt.plot([1,len(D2_log)],[D2_log_CL, D2_log_CL], color='red')\n",
    "plt.xlabel('Sample #')\n",
    "plt.ylabel('D2_log for training data')\n",
    "plt.show()"
   ]
  },
  {
   "cell_type": "code",
   "execution_count": 10,
   "metadata": {},
   "outputs": [],
   "source": [
    "##%%%%%%%%%%%%%%%%%%%%%%%%%%%%%%%%%%%%%%%%%%%%%%%%%%%%%%%%%%%%%%%%%%%%%%%%%%%%%\n",
    "##                          test data\n",
    "## %%%%%%%%%%%%%%%%%%%%%%%%%%%%%%%%%%%%%%%%%%%%%%%%%%%%%%%%%%%%%%%%%%%%%%%%%%%%"
   ]
  },
  {
   "cell_type": "code",
   "execution_count": 11,
   "metadata": {},
   "outputs": [],
   "source": [
    "# fetch test data and unfold\n",
    "test_dataAll = Etch_data[0,0].test\n",
    "\n",
    "unfolded_TestdataMatrix = np.empty((1,n_vars*n_samples))\n",
    "for expt in range(test_dataAll.size):\n",
    "    test_expt = test_dataAll[expt,0][5:90,2:]\n",
    "    \n",
    "    if test_expt.shape[0] < 85:\n",
    "        continue\n",
    "    \n",
    "    unfolded_row = np.ravel(test_expt, order='F')[np.newaxis,:]\n",
    "    unfolded_TestdataMatrix = np.vstack((unfolded_TestdataMatrix, unfolded_row))\n",
    "\n",
    "unfolded_TestdataMatrix = unfolded_TestdataMatrix[1:,:]"
   ]
  },
  {
   "cell_type": "code",
   "execution_count": 12,
   "metadata": {},
   "outputs": [],
   "source": [
    "# scale and PCA on faulty test data\n",
    "score_test = pipe.transform(unfolded_TestdataMatrix)"
   ]
  },
  {
   "cell_type": "code",
   "execution_count": 13,
   "metadata": {},
   "outputs": [],
   "source": [
    "# D2_log_test\n",
    "d2_nbrs_test, indices = nbrs.kneighbors(score_test)\n",
    "d2_nbrs_test = d2_nbrs_test[:,0:5] # we want only 5 nearest  neighbors\n",
    "d2_sqrd_nbrs_test = d2_nbrs_test**2\n",
    "D2_test = np.sum(d2_sqrd_nbrs_test, axis = 1)\n",
    "D2_log_test = np.log(D2_test)"
   ]
  },
  {
   "cell_type": "code",
   "execution_count": 14,
   "metadata": {},
   "outputs": [
    {
     "data": {
      "image/png": "[encoded data removed]",
      "text/plain": [
       "<Figure size 432x288 with 1 Axes>"
      ]
     },
     "metadata": {
      "needs_background": "light"
     },
     "output_type": "display_data"
    }
   ],
   "source": [
    "# monitoring chart for test data\n",
    "plt.figure()\n",
    "plt.plot(D2_log_test, '*')\n",
    "plt.plot([1,len(D2_log_test)],[D2_log_CL, D2_log_CL], color='red')\n",
    "plt.xlabel('Sample #')\n",
    "plt.ylabel('D2_log for test data')\n",
    "plt.show()"
   ]
  }
 ],
 "metadata": {
  "kernelspec": {
   "display_name": "Python 3",
   "language": "python",
   "name": "python3"
  },
  "language_info": {
   "codemirror_mode": {
    "name": "ipython",
    "version": 3
   },
   "file_extension": ".py",
   "mimetype": "text/x-python",
   "name": "python",
   "nbconvert_exporter": "python",
   "pygments_lexer": "ipython3",
   "version": "3.7.4"
  }
 },
 "nbformat": 4,
 "nbformat_minor": 2
}
